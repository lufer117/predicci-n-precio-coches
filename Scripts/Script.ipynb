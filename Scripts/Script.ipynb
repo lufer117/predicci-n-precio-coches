{
 "cells": [
  {
   "cell_type": "markdown",
   "id": "69692995",
   "metadata": {},
   "source": [
    "# Ejercicio 1. Estimar el precio de venta de un coche de segunda mano en base a sus características\n",
    "\n",
    "### Por: Luisa Fernanda Bolívar Arteaga \n",
    "\n",
    "Queremos estimar el precio de venta de un coche de segunda mano en base a sus características. Disponer de un algoritmo predictivo capaz de resolver esta tarea puede tener multitud de aplicaciones: sugerir precios en portales de compraventa online, tasación automática, etc.\n",
    "\n",
    "A continuación desarrollo el paso a paso para dar respuesta a las preguntas planteadas en el instructivo de la Entrega 1. A lo largo del notebook se encuentran títulos donde se da respuesta a las preguntas planteadas en el instructivo de la Entrega 1; de igual forma, al finalizar consolido las mismas para facilidad de lectura. \n",
    "\n"
   ]
  },
  {
   "cell_type": "markdown",
   "id": "f8e74b1a",
   "metadata": {},
   "source": [
    "### Paso 1. Importar paquetes de librerías y set de datos de entrenamiento y test"
   ]
  },
  {
   "cell_type": "code",
   "execution_count": 1,
   "id": "1d1d9ab9",
   "metadata": {},
   "outputs": [
    {
     "name": "stdout",
     "output_type": "stream",
     "text": [
      "Requirement already satisfied: joblib in d:\\anaconda\\lib\\site-packages (1.2.0)\n",
      "Note: you may need to restart the kernel to use updated packages.\n"
     ]
    }
   ],
   "source": [
    "pip install joblib\n"
   ]
  },
  {
   "cell_type": "code",
   "execution_count": 2,
   "id": "3ed14b44",
   "metadata": {},
   "outputs": [
    {
     "name": "stdout",
     "output_type": "stream",
     "text": [
      "Requirement already satisfied: scikit-learn in d:\\anaconda\\lib\\site-packages (1.3.0)\n",
      "Requirement already satisfied: numpy>=1.17.3 in d:\\anaconda\\lib\\site-packages (from scikit-learn) (1.24.3)\n",
      "Requirement already satisfied: scipy>=1.5.0 in d:\\anaconda\\lib\\site-packages (from scikit-learn) (1.11.1)\n",
      "Requirement already satisfied: joblib>=1.1.1 in d:\\anaconda\\lib\\site-packages (from scikit-learn) (1.2.0)\n",
      "Requirement already satisfied: threadpoolctl>=2.0.0 in d:\\anaconda\\lib\\site-packages (from scikit-learn) (2.2.0)\n",
      "Note: you may need to restart the kernel to use updated packages.\n"
     ]
    }
   ],
   "source": [
    "pip install scikit-learn"
   ]
  },
  {
   "cell_type": "code",
   "execution_count": 3,
   "id": "f1d41261",
   "metadata": {},
   "outputs": [
    {
     "name": "stdout",
     "output_type": "stream",
     "text": [
      "Requirement already satisfied: pandas in d:\\anaconda\\lib\\site-packages (2.0.3)\n",
      "Requirement already satisfied: python-dateutil>=2.8.2 in d:\\anaconda\\lib\\site-packages (from pandas) (2.8.2)\n",
      "Requirement already satisfied: pytz>=2020.1 in d:\\anaconda\\lib\\site-packages (from pandas) (2023.3.post1)\n",
      "Requirement already satisfied: tzdata>=2022.1 in d:\\anaconda\\lib\\site-packages (from pandas) (2023.3)\n",
      "Requirement already satisfied: numpy>=1.21.0 in d:\\anaconda\\lib\\site-packages (from pandas) (1.24.3)\n",
      "Requirement already satisfied: six>=1.5 in d:\\anaconda\\lib\\site-packages (from python-dateutil>=2.8.2->pandas) (1.16.0)\n",
      "Note: you may need to restart the kernel to use updated packages.\n"
     ]
    }
   ],
   "source": [
    "pip install pandas"
   ]
  },
  {
   "cell_type": "code",
   "execution_count": 4,
   "id": "811ba279",
   "metadata": {},
   "outputs": [
    {
     "name": "stdout",
     "output_type": "stream",
     "text": [
      "Requirement already satisfied: numpy in d:\\anaconda\\lib\\site-packages (1.24.3)\n",
      "Note: you may need to restart the kernel to use updated packages.\n"
     ]
    }
   ],
   "source": [
    "pip install numpy"
   ]
  },
  {
   "cell_type": "code",
   "execution_count": 5,
   "id": "838dcf59",
   "metadata": {},
   "outputs": [
    {
     "name": "stdout",
     "output_type": "stream",
     "text": [
      "Requirement already satisfied: seaborn in d:\\anaconda\\lib\\site-packages (0.12.2)\n",
      "Requirement already satisfied: numpy!=1.24.0,>=1.17 in d:\\anaconda\\lib\\site-packages (from seaborn) (1.24.3)\n",
      "Requirement already satisfied: pandas>=0.25 in d:\\anaconda\\lib\\site-packages (from seaborn) (2.0.3)\n",
      "Requirement already satisfied: matplotlib!=3.6.1,>=3.1 in d:\\anaconda\\lib\\site-packages (from seaborn) (3.7.2)\n",
      "Requirement already satisfied: contourpy>=1.0.1 in d:\\anaconda\\lib\\site-packages (from matplotlib!=3.6.1,>=3.1->seaborn) (1.0.5)\n",
      "Requirement already satisfied: cycler>=0.10 in d:\\anaconda\\lib\\site-packages (from matplotlib!=3.6.1,>=3.1->seaborn) (0.11.0)\n",
      "Requirement already satisfied: fonttools>=4.22.0 in d:\\anaconda\\lib\\site-packages (from matplotlib!=3.6.1,>=3.1->seaborn) (4.25.0)\n",
      "Requirement already satisfied: kiwisolver>=1.0.1 in d:\\anaconda\\lib\\site-packages (from matplotlib!=3.6.1,>=3.1->seaborn) (1.4.4)\n",
      "Requirement already satisfied: packaging>=20.0 in d:\\anaconda\\lib\\site-packages (from matplotlib!=3.6.1,>=3.1->seaborn) (23.1)\n",
      "Requirement already satisfied: pillow>=6.2.0 in d:\\anaconda\\lib\\site-packages (from matplotlib!=3.6.1,>=3.1->seaborn) (9.4.0)\n",
      "Requirement already satisfied: pyparsing<3.1,>=2.3.1 in d:\\anaconda\\lib\\site-packages (from matplotlib!=3.6.1,>=3.1->seaborn) (3.0.9)\n",
      "Requirement already satisfied: python-dateutil>=2.7 in d:\\anaconda\\lib\\site-packages (from matplotlib!=3.6.1,>=3.1->seaborn) (2.8.2)\n",
      "Requirement already satisfied: pytz>=2020.1 in d:\\anaconda\\lib\\site-packages (from pandas>=0.25->seaborn) (2023.3.post1)\n",
      "Requirement already satisfied: tzdata>=2022.1 in d:\\anaconda\\lib\\site-packages (from pandas>=0.25->seaborn) (2023.3)\n",
      "Requirement already satisfied: six>=1.5 in d:\\anaconda\\lib\\site-packages (from python-dateutil>=2.7->matplotlib!=3.6.1,>=3.1->seaborn) (1.16.0)\n",
      "Note: you may need to restart the kernel to use updated packages.\n"
     ]
    }
   ],
   "source": [
    "pip install seaborn"
   ]
  },
  {
   "cell_type": "code",
   "execution_count": 6,
   "id": "c1844863",
   "metadata": {},
   "outputs": [
    {
     "name": "stdout",
     "output_type": "stream",
     "text": [
      "Requirement already satisfied: matplotlib in d:\\anaconda\\lib\\site-packages (3.7.2)\n",
      "Requirement already satisfied: contourpy>=1.0.1 in d:\\anaconda\\lib\\site-packages (from matplotlib) (1.0.5)\n",
      "Requirement already satisfied: cycler>=0.10 in d:\\anaconda\\lib\\site-packages (from matplotlib) (0.11.0)\n",
      "Requirement already satisfied: fonttools>=4.22.0 in d:\\anaconda\\lib\\site-packages (from matplotlib) (4.25.0)\n",
      "Requirement already satisfied: kiwisolver>=1.0.1 in d:\\anaconda\\lib\\site-packages (from matplotlib) (1.4.4)\n",
      "Requirement already satisfied: numpy>=1.20 in d:\\anaconda\\lib\\site-packages (from matplotlib) (1.24.3)\n",
      "Requirement already satisfied: packaging>=20.0 in d:\\anaconda\\lib\\site-packages (from matplotlib) (23.1)\n",
      "Requirement already satisfied: pillow>=6.2.0 in d:\\anaconda\\lib\\site-packages (from matplotlib) (9.4.0)\n",
      "Requirement already satisfied: pyparsing<3.1,>=2.3.1 in d:\\anaconda\\lib\\site-packages (from matplotlib) (3.0.9)\n",
      "Requirement already satisfied: python-dateutil>=2.7 in d:\\anaconda\\lib\\site-packages (from matplotlib) (2.8.2)\n",
      "Requirement already satisfied: six>=1.5 in d:\\anaconda\\lib\\site-packages (from python-dateutil>=2.7->matplotlib) (1.16.0)\n",
      "Note: you may need to restart the kernel to use updated packages.\n"
     ]
    }
   ],
   "source": [
    "pip install matplotlib"
   ]
  },
  {
   "cell_type": "code",
   "execution_count": 7,
   "id": "65547766",
   "metadata": {},
   "outputs": [],
   "source": [
    "# Importamos los paquetes de las librerías necesarios\n",
    "\n",
    "import joblib\n",
    "import pandas as pd\n",
    "import numpy as np\n",
    "import seaborn as sns\n",
    "from sklearn.compose import ColumnTransformer\n",
    "from sklearn.pipeline import Pipeline\n",
    "from sklearn.preprocessing import OneHotEncoder\n",
    "from sklearn.compose import ColumnTransformer\n",
    "from sklearn.preprocessing import MinMaxScaler\n",
    "import matplotlib.pyplot as plt\n",
    "import sklearn.preprocessing as prep \n",
    "%matplotlib inline"
   ]
  },
  {
   "cell_type": "code",
   "execution_count": 8,
   "id": "a0c4f042",
   "metadata": {},
   "outputs": [],
   "source": [
    "# Se carga el dataset de train y test\n",
    "import pandas as pd\n",
    "\n",
    "pd.read_csv (\"dataset_coches_train.csv\")\n",
    "pd.read_csv (\"dataset_coches_test.csv\")\n",
    "\n",
    "#renombro para fácil manejo de los dataset posteriormente\n",
    "\n",
    "coches_train = pd.read_csv(\"dataset_coches_train.csv\") \n",
    "coches_test = pd.read_csv(\"dataset_coches_test.csv\")\n",
    "\n",
    "#creo un dataset que une los datos de entrenamiento y test, con el fin único de visualizar las distribuciones del dataset completo \n",
    "\n",
    "coches_dataset = pd.concat([coches_train, coches_test], ignore_index=True)\n"
   ]
  },
  {
   "cell_type": "code",
   "execution_count": 9,
   "id": "369c703e",
   "metadata": {},
   "outputs": [
    {
     "data": {
      "text/html": [
       "<div>\n",
       "<style scoped>\n",
       "    .dataframe tbody tr th:only-of-type {\n",
       "        vertical-align: middle;\n",
       "    }\n",
       "\n",
       "    .dataframe tbody tr th {\n",
       "        vertical-align: top;\n",
       "    }\n",
       "\n",
       "    .dataframe thead th {\n",
       "        text-align: right;\n",
       "    }\n",
       "</style>\n",
       "<table border=\"1\" class=\"dataframe\">\n",
       "  <thead>\n",
       "    <tr style=\"text-align: right;\">\n",
       "      <th></th>\n",
       "      <th>ID</th>\n",
       "      <th>marca</th>\n",
       "      <th>modelo</th>\n",
       "      <th>fecha</th>\n",
       "      <th>tipo_cambio</th>\n",
       "      <th>total_km</th>\n",
       "      <th>tipo_combustible</th>\n",
       "      <th>consumo</th>\n",
       "      <th>tipo_motor</th>\n",
       "      <th>tasa</th>\n",
       "      <th>precio</th>\n",
       "    </tr>\n",
       "  </thead>\n",
       "  <tbody>\n",
       "    <tr>\n",
       "      <th>0</th>\n",
       "      <td>13207</td>\n",
       "      <td>hyundi</td>\n",
       "      <td>Santa Fe</td>\n",
       "      <td>2019</td>\n",
       "      <td>Semi-Auto</td>\n",
       "      <td>4223</td>\n",
       "      <td>Diesel</td>\n",
       "      <td>5.91</td>\n",
       "      <td>2.2</td>\n",
       "      <td>145.0</td>\n",
       "      <td>31995</td>\n",
       "    </tr>\n",
       "    <tr>\n",
       "      <th>1</th>\n",
       "      <td>17314</td>\n",
       "      <td>vauxhall</td>\n",
       "      <td>GTC</td>\n",
       "      <td>2015</td>\n",
       "      <td>Manual</td>\n",
       "      <td>47870</td>\n",
       "      <td>Diesel</td>\n",
       "      <td>3.91</td>\n",
       "      <td>2.0</td>\n",
       "      <td>125.0</td>\n",
       "      <td>7700</td>\n",
       "    </tr>\n",
       "    <tr>\n",
       "      <th>2</th>\n",
       "      <td>12342</td>\n",
       "      <td>audi</td>\n",
       "      <td>RS4</td>\n",
       "      <td>2019</td>\n",
       "      <td>Automatic</td>\n",
       "      <td>5151</td>\n",
       "      <td>Petrol</td>\n",
       "      <td>8.08</td>\n",
       "      <td>2.9</td>\n",
       "      <td>145.0</td>\n",
       "      <td>58990</td>\n",
       "    </tr>\n",
       "    <tr>\n",
       "      <th>3</th>\n",
       "      <td>13426</td>\n",
       "      <td>vw</td>\n",
       "      <td>Scirocco</td>\n",
       "      <td>2016</td>\n",
       "      <td>Automatic</td>\n",
       "      <td>20423</td>\n",
       "      <td>Diesel</td>\n",
       "      <td>4.08</td>\n",
       "      <td>2.0</td>\n",
       "      <td>30.0</td>\n",
       "      <td>12999</td>\n",
       "    </tr>\n",
       "    <tr>\n",
       "      <th>4</th>\n",
       "      <td>16004</td>\n",
       "      <td>skoda</td>\n",
       "      <td>Scala</td>\n",
       "      <td>2020</td>\n",
       "      <td>Semi-Auto</td>\n",
       "      <td>3569</td>\n",
       "      <td>Petrol</td>\n",
       "      <td>4.99</td>\n",
       "      <td>1.0</td>\n",
       "      <td>145.0</td>\n",
       "      <td>16990</td>\n",
       "    </tr>\n",
       "    <tr>\n",
       "      <th>...</th>\n",
       "      <td>...</td>\n",
       "      <td>...</td>\n",
       "      <td>...</td>\n",
       "      <td>...</td>\n",
       "      <td>...</td>\n",
       "      <td>...</td>\n",
       "      <td>...</td>\n",
       "      <td>...</td>\n",
       "      <td>...</td>\n",
       "      <td>...</td>\n",
       "      <td>...</td>\n",
       "    </tr>\n",
       "    <tr>\n",
       "      <th>4955</th>\n",
       "      <td>16898</td>\n",
       "      <td>merc</td>\n",
       "      <td>GL Class</td>\n",
       "      <td>2015</td>\n",
       "      <td>Automatic</td>\n",
       "      <td>24314</td>\n",
       "      <td>Diesel</td>\n",
       "      <td>4.16</td>\n",
       "      <td>2.1</td>\n",
       "      <td>125.0</td>\n",
       "      <td>17999</td>\n",
       "    </tr>\n",
       "    <tr>\n",
       "      <th>4956</th>\n",
       "      <td>14416</td>\n",
       "      <td>bmw</td>\n",
       "      <td>6 Series</td>\n",
       "      <td>2017</td>\n",
       "      <td>Automatic</td>\n",
       "      <td>18000</td>\n",
       "      <td>Diesel</td>\n",
       "      <td>4.58</td>\n",
       "      <td>3.0</td>\n",
       "      <td>145.0</td>\n",
       "      <td>28900</td>\n",
       "    </tr>\n",
       "    <tr>\n",
       "      <th>4957</th>\n",
       "      <td>15453</td>\n",
       "      <td>vw</td>\n",
       "      <td>CC</td>\n",
       "      <td>2015</td>\n",
       "      <td>Manual</td>\n",
       "      <td>84932</td>\n",
       "      <td>Diesel</td>\n",
       "      <td>3.91</td>\n",
       "      <td>2.0</td>\n",
       "      <td>30.0</td>\n",
       "      <td>8998</td>\n",
       "    </tr>\n",
       "    <tr>\n",
       "      <th>4958</th>\n",
       "      <td>14666</td>\n",
       "      <td>audi</td>\n",
       "      <td>A7</td>\n",
       "      <td>2017</td>\n",
       "      <td>Semi-Auto</td>\n",
       "      <td>30150</td>\n",
       "      <td>Diesel</td>\n",
       "      <td>3.75</td>\n",
       "      <td>3.0</td>\n",
       "      <td>145.0</td>\n",
       "      <td>23198</td>\n",
       "    </tr>\n",
       "    <tr>\n",
       "      <th>4959</th>\n",
       "      <td>15135</td>\n",
       "      <td>merc</td>\n",
       "      <td>SLK</td>\n",
       "      <td>2014</td>\n",
       "      <td>Automatic</td>\n",
       "      <td>40230</td>\n",
       "      <td>Diesel</td>\n",
       "      <td>4.16</td>\n",
       "      <td>3.0</td>\n",
       "      <td>150.0</td>\n",
       "      <td>14900</td>\n",
       "    </tr>\n",
       "  </tbody>\n",
       "</table>\n",
       "<p>4960 rows × 11 columns</p>\n",
       "</div>"
      ],
      "text/plain": [
       "         ID     marca     modelo  fecha tipo_cambio  total_km  \\\n",
       "0     13207    hyundi   Santa Fe   2019   Semi-Auto      4223   \n",
       "1     17314  vauxhall        GTC   2015      Manual     47870   \n",
       "2     12342      audi        RS4   2019   Automatic      5151   \n",
       "3     13426        vw   Scirocco   2016   Automatic     20423   \n",
       "4     16004     skoda      Scala   2020   Semi-Auto      3569   \n",
       "...     ...       ...        ...    ...         ...       ...   \n",
       "4955  16898      merc   GL Class   2015   Automatic     24314   \n",
       "4956  14416       bmw   6 Series   2017   Automatic     18000   \n",
       "4957  15453        vw         CC   2015      Manual     84932   \n",
       "4958  14666      audi         A7   2017   Semi-Auto     30150   \n",
       "4959  15135      merc        SLK   2014   Automatic     40230   \n",
       "\n",
       "     tipo_combustible  consumo  tipo_motor   tasa  precio  \n",
       "0              Diesel     5.91         2.2  145.0   31995  \n",
       "1              Diesel     3.91         2.0  125.0    7700  \n",
       "2              Petrol     8.08         2.9  145.0   58990  \n",
       "3              Diesel     4.08         2.0   30.0   12999  \n",
       "4              Petrol     4.99         1.0  145.0   16990  \n",
       "...               ...      ...         ...    ...     ...  \n",
       "4955           Diesel     4.16         2.1  125.0   17999  \n",
       "4956           Diesel     4.58         3.0  145.0   28900  \n",
       "4957           Diesel     3.91         2.0   30.0    8998  \n",
       "4958           Diesel     3.75         3.0  145.0   23198  \n",
       "4959           Diesel     4.16         3.0  150.0   14900  \n",
       "\n",
       "[4960 rows x 11 columns]"
      ]
     },
     "execution_count": 9,
     "metadata": {},
     "output_type": "execute_result"
    }
   ],
   "source": [
    "#visualizo el data set de entrenamiento para conocer su tamaño y contenido\n",
    "coches_train"
   ]
  },
  {
   "cell_type": "code",
   "execution_count": 10,
   "id": "9f454d44",
   "metadata": {},
   "outputs": [
    {
     "data": {
      "text/html": [
       "<div>\n",
       "<style scoped>\n",
       "    .dataframe tbody tr th:only-of-type {\n",
       "        vertical-align: middle;\n",
       "    }\n",
       "\n",
       "    .dataframe tbody tr th {\n",
       "        vertical-align: top;\n",
       "    }\n",
       "\n",
       "    .dataframe thead th {\n",
       "        text-align: right;\n",
       "    }\n",
       "</style>\n",
       "<table border=\"1\" class=\"dataframe\">\n",
       "  <thead>\n",
       "    <tr style=\"text-align: right;\">\n",
       "      <th></th>\n",
       "      <th>ID</th>\n",
       "      <th>marca</th>\n",
       "      <th>modelo</th>\n",
       "      <th>fecha</th>\n",
       "      <th>tipo_cambio</th>\n",
       "      <th>total_km</th>\n",
       "      <th>tipo_combustible</th>\n",
       "      <th>consumo</th>\n",
       "      <th>tipo_motor</th>\n",
       "      <th>tasa</th>\n",
       "      <th>precio</th>\n",
       "    </tr>\n",
       "  </thead>\n",
       "  <tbody>\n",
       "    <tr>\n",
       "      <th>0</th>\n",
       "      <td>12000</td>\n",
       "      <td>merc</td>\n",
       "      <td>GLS Class</td>\n",
       "      <td>2017</td>\n",
       "      <td>Automatic</td>\n",
       "      <td>12046</td>\n",
       "      <td>Diesel</td>\n",
       "      <td>6.32</td>\n",
       "      <td>3.0</td>\n",
       "      <td>150.0</td>\n",
       "      <td>38000</td>\n",
       "    </tr>\n",
       "    <tr>\n",
       "      <th>1</th>\n",
       "      <td>12001</td>\n",
       "      <td>vw</td>\n",
       "      <td>Amarok</td>\n",
       "      <td>2017</td>\n",
       "      <td>Automatic</td>\n",
       "      <td>37683</td>\n",
       "      <td>Diesel</td>\n",
       "      <td>6.50</td>\n",
       "      <td>3.0</td>\n",
       "      <td>260.0</td>\n",
       "      <td>23495</td>\n",
       "    </tr>\n",
       "    <tr>\n",
       "      <th>2</th>\n",
       "      <td>12004</td>\n",
       "      <td>merc</td>\n",
       "      <td>GLS Class</td>\n",
       "      <td>2019</td>\n",
       "      <td>Automatic</td>\n",
       "      <td>10000</td>\n",
       "      <td>Diesel</td>\n",
       "      <td>6.92</td>\n",
       "      <td>3.0</td>\n",
       "      <td>145.0</td>\n",
       "      <td>59999</td>\n",
       "    </tr>\n",
       "    <tr>\n",
       "      <th>3</th>\n",
       "      <td>12013</td>\n",
       "      <td>skoda</td>\n",
       "      <td>Scala</td>\n",
       "      <td>2019</td>\n",
       "      <td>Manual</td>\n",
       "      <td>3257</td>\n",
       "      <td>Petrol</td>\n",
       "      <td>4.74</td>\n",
       "      <td>1.0</td>\n",
       "      <td>145.0</td>\n",
       "      <td>16713</td>\n",
       "    </tr>\n",
       "    <tr>\n",
       "      <th>4</th>\n",
       "      <td>12017</td>\n",
       "      <td>audi</td>\n",
       "      <td>RS6</td>\n",
       "      <td>2015</td>\n",
       "      <td>Semi-Auto</td>\n",
       "      <td>20982</td>\n",
       "      <td>Petrol</td>\n",
       "      <td>8.00</td>\n",
       "      <td>4.0</td>\n",
       "      <td>325.0</td>\n",
       "      <td>46000</td>\n",
       "    </tr>\n",
       "    <tr>\n",
       "      <th>...</th>\n",
       "      <td>...</td>\n",
       "      <td>...</td>\n",
       "      <td>...</td>\n",
       "      <td>...</td>\n",
       "      <td>...</td>\n",
       "      <td>...</td>\n",
       "      <td>...</td>\n",
       "      <td>...</td>\n",
       "      <td>...</td>\n",
       "      <td>...</td>\n",
       "      <td>...</td>\n",
       "    </tr>\n",
       "    <tr>\n",
       "      <th>2667</th>\n",
       "      <td>19618</td>\n",
       "      <td>audi</td>\n",
       "      <td>A7</td>\n",
       "      <td>2015</td>\n",
       "      <td>Semi-Auto</td>\n",
       "      <td>21100</td>\n",
       "      <td>Petrol</td>\n",
       "      <td>7.92</td>\n",
       "      <td>4.0</td>\n",
       "      <td>325.0</td>\n",
       "      <td>28990</td>\n",
       "    </tr>\n",
       "    <tr>\n",
       "      <th>2668</th>\n",
       "      <td>19620</td>\n",
       "      <td>merc</td>\n",
       "      <td>CLS Class</td>\n",
       "      <td>2015</td>\n",
       "      <td>Automatic</td>\n",
       "      <td>60972</td>\n",
       "      <td>Diesel</td>\n",
       "      <td>4.50</td>\n",
       "      <td>3.0</td>\n",
       "      <td>160.0</td>\n",
       "      <td>17450</td>\n",
       "    </tr>\n",
       "    <tr>\n",
       "      <th>2669</th>\n",
       "      <td>19626</td>\n",
       "      <td>ford</td>\n",
       "      <td>Puma</td>\n",
       "      <td>2020</td>\n",
       "      <td>Manual</td>\n",
       "      <td>4111</td>\n",
       "      <td>Petrol</td>\n",
       "      <td>4.67</td>\n",
       "      <td>1.0</td>\n",
       "      <td>145.0</td>\n",
       "      <td>21995</td>\n",
       "    </tr>\n",
       "    <tr>\n",
       "      <th>2670</th>\n",
       "      <td>19630</td>\n",
       "      <td>merc</td>\n",
       "      <td>CLA Class</td>\n",
       "      <td>2016</td>\n",
       "      <td>Automatic</td>\n",
       "      <td>25726</td>\n",
       "      <td>Petrol</td>\n",
       "      <td>5.67</td>\n",
       "      <td>2.0</td>\n",
       "      <td>200.0</td>\n",
       "      <td>18700</td>\n",
       "    </tr>\n",
       "    <tr>\n",
       "      <th>2671</th>\n",
       "      <td>19631</td>\n",
       "      <td>vauxhall</td>\n",
       "      <td>Antara</td>\n",
       "      <td>2007</td>\n",
       "      <td>Automatic</td>\n",
       "      <td>99500</td>\n",
       "      <td>Diesel</td>\n",
       "      <td>7.17</td>\n",
       "      <td>2.0</td>\n",
       "      <td>565.0</td>\n",
       "      <td>2999</td>\n",
       "    </tr>\n",
       "  </tbody>\n",
       "</table>\n",
       "<p>2672 rows × 11 columns</p>\n",
       "</div>"
      ],
      "text/plain": [
       "         ID     marca      modelo  fecha tipo_cambio  total_km  \\\n",
       "0     12000      merc   GLS Class   2017   Automatic     12046   \n",
       "1     12001        vw      Amarok   2017   Automatic     37683   \n",
       "2     12004      merc   GLS Class   2019   Automatic     10000   \n",
       "3     12013     skoda       Scala   2019      Manual      3257   \n",
       "4     12017      audi         RS6   2015   Semi-Auto     20982   \n",
       "...     ...       ...         ...    ...         ...       ...   \n",
       "2667  19618      audi          A7   2015   Semi-Auto     21100   \n",
       "2668  19620      merc   CLS Class   2015   Automatic     60972   \n",
       "2669  19626      ford        Puma   2020      Manual      4111   \n",
       "2670  19630      merc   CLA Class   2016   Automatic     25726   \n",
       "2671  19631  vauxhall      Antara   2007   Automatic     99500   \n",
       "\n",
       "     tipo_combustible  consumo  tipo_motor   tasa  precio  \n",
       "0              Diesel     6.32         3.0  150.0   38000  \n",
       "1              Diesel     6.50         3.0  260.0   23495  \n",
       "2              Diesel     6.92         3.0  145.0   59999  \n",
       "3              Petrol     4.74         1.0  145.0   16713  \n",
       "4              Petrol     8.00         4.0  325.0   46000  \n",
       "...               ...      ...         ...    ...     ...  \n",
       "2667           Petrol     7.92         4.0  325.0   28990  \n",
       "2668           Diesel     4.50         3.0  160.0   17450  \n",
       "2669           Petrol     4.67         1.0  145.0   21995  \n",
       "2670           Petrol     5.67         2.0  200.0   18700  \n",
       "2671           Diesel     7.17         2.0  565.0    2999  \n",
       "\n",
       "[2672 rows x 11 columns]"
      ]
     },
     "execution_count": 10,
     "metadata": {},
     "output_type": "execute_result"
    }
   ],
   "source": [
    "#visualizo el data set de test para conocer su tamaño y contenido\n",
    "coches_test"
   ]
  },
  {
   "cell_type": "markdown",
   "id": "ef02081e",
   "metadata": {},
   "source": [
    "# Información general de los datos"
   ]
  },
  {
   "cell_type": "code",
   "execution_count": 11,
   "id": "db929b14",
   "metadata": {},
   "outputs": [
    {
     "data": {
      "text/plain": [
       "((4960, 11), (2672, 11))"
      ]
     },
     "execution_count": 11,
     "metadata": {},
     "output_type": "execute_result"
    }
   ],
   "source": [
    "# Consulta para ver el tamaño de filas y columnas de cada dataset, confirmando los datos dados en las instrucciones de la entrega\n",
    "\n",
    "coches_train.shape, coches_test.shape"
   ]
  },
  {
   "cell_type": "code",
   "execution_count": 12,
   "id": "879fce3f",
   "metadata": {},
   "outputs": [
    {
     "name": "stdout",
     "output_type": "stream",
     "text": [
      "<class 'pandas.core.frame.DataFrame'>\n",
      "RangeIndex: 4960 entries, 0 to 4959\n",
      "Data columns (total 11 columns):\n",
      " #   Column            Non-Null Count  Dtype  \n",
      "---  ------            --------------  -----  \n",
      " 0   ID                4960 non-null   int64  \n",
      " 1   marca             4960 non-null   object \n",
      " 2   modelo            4960 non-null   object \n",
      " 3   fecha             4960 non-null   int64  \n",
      " 4   tipo_cambio       4960 non-null   object \n",
      " 5   total_km          4960 non-null   int64  \n",
      " 6   tipo_combustible  4960 non-null   object \n",
      " 7   consumo           4960 non-null   float64\n",
      " 8   tipo_motor        4960 non-null   float64\n",
      " 9   tasa              4960 non-null   float64\n",
      " 10  precio            4960 non-null   int64  \n",
      "dtypes: float64(3), int64(4), object(4)\n",
      "memory usage: 426.4+ KB\n"
     ]
    }
   ],
   "source": [
    "# Consula para visualizar el tipo de variables que contiene el dataset y el nombre de cada una\n",
    "coches_train.info()"
   ]
  },
  {
   "cell_type": "code",
   "execution_count": 13,
   "id": "4cec66df",
   "metadata": {},
   "outputs": [
    {
     "name": "stdout",
     "output_type": "stream",
     "text": [
      "<class 'pandas.core.frame.DataFrame'>\n",
      "RangeIndex: 2672 entries, 0 to 2671\n",
      "Data columns (total 11 columns):\n",
      " #   Column            Non-Null Count  Dtype  \n",
      "---  ------            --------------  -----  \n",
      " 0   ID                2672 non-null   int64  \n",
      " 1   marca             2672 non-null   object \n",
      " 2   modelo            2672 non-null   object \n",
      " 3   fecha             2672 non-null   int64  \n",
      " 4   tipo_cambio       2672 non-null   object \n",
      " 5   total_km          2672 non-null   int64  \n",
      " 6   tipo_combustible  2672 non-null   object \n",
      " 7   consumo           2672 non-null   float64\n",
      " 8   tipo_motor        2672 non-null   float64\n",
      " 9   tasa              2672 non-null   float64\n",
      " 10  precio            2672 non-null   int64  \n",
      "dtypes: float64(3), int64(4), object(4)\n",
      "memory usage: 229.8+ KB\n"
     ]
    }
   ],
   "source": [
    "# Consula para visualizar el tipo de variables que contiene el dataset y el nombre de cada una\n",
    "coches_test.info()"
   ]
  },
  {
   "cell_type": "code",
   "execution_count": 14,
   "id": "099e0ce3",
   "metadata": {},
   "outputs": [
    {
     "data": {
      "text/html": [
       "<div>\n",
       "<style scoped>\n",
       "    .dataframe tbody tr th:only-of-type {\n",
       "        vertical-align: middle;\n",
       "    }\n",
       "\n",
       "    .dataframe tbody tr th {\n",
       "        vertical-align: top;\n",
       "    }\n",
       "\n",
       "    .dataframe thead th {\n",
       "        text-align: right;\n",
       "    }\n",
       "</style>\n",
       "<table border=\"1\" class=\"dataframe\">\n",
       "  <thead>\n",
       "    <tr style=\"text-align: right;\">\n",
       "      <th></th>\n",
       "      <th>ID</th>\n",
       "      <th>fecha</th>\n",
       "      <th>total_km</th>\n",
       "      <th>consumo</th>\n",
       "      <th>tipo_motor</th>\n",
       "      <th>tasa</th>\n",
       "      <th>precio</th>\n",
       "    </tr>\n",
       "  </thead>\n",
       "  <tbody>\n",
       "    <tr>\n",
       "      <th>count</th>\n",
       "      <td>4960.000000</td>\n",
       "      <td>4960.000000</td>\n",
       "      <td>4960.000000</td>\n",
       "      <td>4960.00000</td>\n",
       "      <td>4960.000000</td>\n",
       "      <td>4960.000000</td>\n",
       "      <td>4960.000000</td>\n",
       "    </tr>\n",
       "    <tr>\n",
       "      <th>mean</th>\n",
       "      <td>15832.446169</td>\n",
       "      <td>2016.737903</td>\n",
       "      <td>24956.286895</td>\n",
       "      <td>5.37672</td>\n",
       "      <td>2.124375</td>\n",
       "      <td>152.332661</td>\n",
       "      <td>23469.943750</td>\n",
       "    </tr>\n",
       "    <tr>\n",
       "      <th>std</th>\n",
       "      <td>2206.717006</td>\n",
       "      <td>2.884035</td>\n",
       "      <td>24443.333662</td>\n",
       "      <td>3.14126</td>\n",
       "      <td>0.789368</td>\n",
       "      <td>82.403844</td>\n",
       "      <td>16406.714563</td>\n",
       "    </tr>\n",
       "    <tr>\n",
       "      <th>min</th>\n",
       "      <td>12002.000000</td>\n",
       "      <td>1997.000000</td>\n",
       "      <td>1.000000</td>\n",
       "      <td>0.50000</td>\n",
       "      <td>0.000000</td>\n",
       "      <td>0.000000</td>\n",
       "      <td>450.000000</td>\n",
       "    </tr>\n",
       "    <tr>\n",
       "      <th>25%</th>\n",
       "      <td>13929.250000</td>\n",
       "      <td>2016.000000</td>\n",
       "      <td>5641.250000</td>\n",
       "      <td>4.33000</td>\n",
       "      <td>1.600000</td>\n",
       "      <td>145.000000</td>\n",
       "      <td>12000.000000</td>\n",
       "    </tr>\n",
       "    <tr>\n",
       "      <th>50%</th>\n",
       "      <td>15840.000000</td>\n",
       "      <td>2017.000000</td>\n",
       "      <td>19000.000000</td>\n",
       "      <td>4.99000</td>\n",
       "      <td>2.000000</td>\n",
       "      <td>145.000000</td>\n",
       "      <td>18999.000000</td>\n",
       "    </tr>\n",
       "    <tr>\n",
       "      <th>75%</th>\n",
       "      <td>17765.750000</td>\n",
       "      <td>2019.000000</td>\n",
       "      <td>36702.000000</td>\n",
       "      <td>6.08000</td>\n",
       "      <td>2.800000</td>\n",
       "      <td>150.000000</td>\n",
       "      <td>30335.750000</td>\n",
       "    </tr>\n",
       "    <tr>\n",
       "      <th>max</th>\n",
       "      <td>19629.000000</td>\n",
       "      <td>2020.000000</td>\n",
       "      <td>259000.000000</td>\n",
       "      <td>84.01000</td>\n",
       "      <td>6.600000</td>\n",
       "      <td>580.000000</td>\n",
       "      <td>145000.000000</td>\n",
       "    </tr>\n",
       "  </tbody>\n",
       "</table>\n",
       "</div>"
      ],
      "text/plain": [
       "                 ID        fecha       total_km     consumo   tipo_motor  \\\n",
       "count   4960.000000  4960.000000    4960.000000  4960.00000  4960.000000   \n",
       "mean   15832.446169  2016.737903   24956.286895     5.37672     2.124375   \n",
       "std     2206.717006     2.884035   24443.333662     3.14126     0.789368   \n",
       "min    12002.000000  1997.000000       1.000000     0.50000     0.000000   \n",
       "25%    13929.250000  2016.000000    5641.250000     4.33000     1.600000   \n",
       "50%    15840.000000  2017.000000   19000.000000     4.99000     2.000000   \n",
       "75%    17765.750000  2019.000000   36702.000000     6.08000     2.800000   \n",
       "max    19629.000000  2020.000000  259000.000000    84.01000     6.600000   \n",
       "\n",
       "              tasa         precio  \n",
       "count  4960.000000    4960.000000  \n",
       "mean    152.332661   23469.943750  \n",
       "std      82.403844   16406.714563  \n",
       "min       0.000000     450.000000  \n",
       "25%     145.000000   12000.000000  \n",
       "50%     145.000000   18999.000000  \n",
       "75%     150.000000   30335.750000  \n",
       "max     580.000000  145000.000000  "
      ]
     },
     "execution_count": 14,
     "metadata": {},
     "output_type": "execute_result"
    }
   ],
   "source": [
    "# Consula para visualizar la estadística descriptiva del data set de entrenamiento\n",
    "coches_train.describe()"
   ]
  },
  {
   "cell_type": "code",
   "execution_count": 15,
   "id": "cca86801",
   "metadata": {},
   "outputs": [
    {
     "data": {
      "text/html": [
       "<div>\n",
       "<style scoped>\n",
       "    .dataframe tbody tr th:only-of-type {\n",
       "        vertical-align: middle;\n",
       "    }\n",
       "\n",
       "    .dataframe tbody tr th {\n",
       "        vertical-align: top;\n",
       "    }\n",
       "\n",
       "    .dataframe thead th {\n",
       "        text-align: right;\n",
       "    }\n",
       "</style>\n",
       "<table border=\"1\" class=\"dataframe\">\n",
       "  <thead>\n",
       "    <tr style=\"text-align: right;\">\n",
       "      <th></th>\n",
       "      <th>ID</th>\n",
       "      <th>fecha</th>\n",
       "      <th>total_km</th>\n",
       "      <th>consumo</th>\n",
       "      <th>tipo_motor</th>\n",
       "      <th>tasa</th>\n",
       "      <th>precio</th>\n",
       "    </tr>\n",
       "  </thead>\n",
       "  <tbody>\n",
       "    <tr>\n",
       "      <th>count</th>\n",
       "      <td>2672.000000</td>\n",
       "      <td>2672.000000</td>\n",
       "      <td>2672.000000</td>\n",
       "      <td>2672.000000</td>\n",
       "      <td>2672.000000</td>\n",
       "      <td>2672.000000</td>\n",
       "      <td>2672.000000</td>\n",
       "    </tr>\n",
       "    <tr>\n",
       "      <th>mean</th>\n",
       "      <td>15784.043039</td>\n",
       "      <td>2016.720434</td>\n",
       "      <td>24617.528443</td>\n",
       "      <td>5.437833</td>\n",
       "      <td>2.135105</td>\n",
       "      <td>153.261602</td>\n",
       "      <td>23784.075599</td>\n",
       "    </tr>\n",
       "    <tr>\n",
       "      <th>std</th>\n",
       "      <td>2197.045979</td>\n",
       "      <td>2.898906</td>\n",
       "      <td>23142.032992</td>\n",
       "      <td>3.392526</td>\n",
       "      <td>0.768596</td>\n",
       "      <td>80.742530</td>\n",
       "      <td>16600.736576</td>\n",
       "    </tr>\n",
       "    <tr>\n",
       "      <th>min</th>\n",
       "      <td>12000.000000</td>\n",
       "      <td>1970.000000</td>\n",
       "      <td>1.000000</td>\n",
       "      <td>0.500000</td>\n",
       "      <td>0.000000</td>\n",
       "      <td>0.000000</td>\n",
       "      <td>795.000000</td>\n",
       "    </tr>\n",
       "    <tr>\n",
       "      <th>25%</th>\n",
       "      <td>13889.750000</td>\n",
       "      <td>2016.000000</td>\n",
       "      <td>6000.000000</td>\n",
       "      <td>4.330000</td>\n",
       "      <td>1.600000</td>\n",
       "      <td>145.000000</td>\n",
       "      <td>12490.750000</td>\n",
       "    </tr>\n",
       "    <tr>\n",
       "      <th>50%</th>\n",
       "      <td>15777.500000</td>\n",
       "      <td>2017.000000</td>\n",
       "      <td>18548.000000</td>\n",
       "      <td>4.990000</td>\n",
       "      <td>2.000000</td>\n",
       "      <td>145.000000</td>\n",
       "      <td>19495.000000</td>\n",
       "    </tr>\n",
       "    <tr>\n",
       "      <th>75%</th>\n",
       "      <td>17661.500000</td>\n",
       "      <td>2019.000000</td>\n",
       "      <td>36272.250000</td>\n",
       "      <td>6.240000</td>\n",
       "      <td>2.800000</td>\n",
       "      <td>160.000000</td>\n",
       "      <td>30500.000000</td>\n",
       "    </tr>\n",
       "    <tr>\n",
       "      <th>max</th>\n",
       "      <td>19631.000000</td>\n",
       "      <td>2020.000000</td>\n",
       "      <td>167054.000000</td>\n",
       "      <td>84.010000</td>\n",
       "      <td>6.300000</td>\n",
       "      <td>580.000000</td>\n",
       "      <td>159999.000000</td>\n",
       "    </tr>\n",
       "  </tbody>\n",
       "</table>\n",
       "</div>"
      ],
      "text/plain": [
       "                 ID        fecha       total_km      consumo   tipo_motor  \\\n",
       "count   2672.000000  2672.000000    2672.000000  2672.000000  2672.000000   \n",
       "mean   15784.043039  2016.720434   24617.528443     5.437833     2.135105   \n",
       "std     2197.045979     2.898906   23142.032992     3.392526     0.768596   \n",
       "min    12000.000000  1970.000000       1.000000     0.500000     0.000000   \n",
       "25%    13889.750000  2016.000000    6000.000000     4.330000     1.600000   \n",
       "50%    15777.500000  2017.000000   18548.000000     4.990000     2.000000   \n",
       "75%    17661.500000  2019.000000   36272.250000     6.240000     2.800000   \n",
       "max    19631.000000  2020.000000  167054.000000    84.010000     6.300000   \n",
       "\n",
       "              tasa         precio  \n",
       "count  2672.000000    2672.000000  \n",
       "mean    153.261602   23784.075599  \n",
       "std      80.742530   16600.736576  \n",
       "min       0.000000     795.000000  \n",
       "25%     145.000000   12490.750000  \n",
       "50%     145.000000   19495.000000  \n",
       "75%     160.000000   30500.000000  \n",
       "max     580.000000  159999.000000  "
      ]
     },
     "execution_count": 15,
     "metadata": {},
     "output_type": "execute_result"
    }
   ],
   "source": [
    "# Consula para visualizar la estadística descriptiva del dataset de test\n",
    "coches_test.describe()"
   ]
  },
  {
   "cell_type": "code",
   "execution_count": 16,
   "id": "0dc1bae2",
   "metadata": {},
   "outputs": [
    {
     "data": {
      "text/html": [
       "<div>\n",
       "<style scoped>\n",
       "    .dataframe tbody tr th:only-of-type {\n",
       "        vertical-align: middle;\n",
       "    }\n",
       "\n",
       "    .dataframe tbody tr th {\n",
       "        vertical-align: top;\n",
       "    }\n",
       "\n",
       "    .dataframe thead th {\n",
       "        text-align: right;\n",
       "    }\n",
       "</style>\n",
       "<table border=\"1\" class=\"dataframe\">\n",
       "  <thead>\n",
       "    <tr style=\"text-align: right;\">\n",
       "      <th></th>\n",
       "      <th>ID</th>\n",
       "      <th>marca</th>\n",
       "      <th>modelo</th>\n",
       "      <th>fecha</th>\n",
       "      <th>tipo_cambio</th>\n",
       "      <th>total_km</th>\n",
       "      <th>tipo_combustible</th>\n",
       "      <th>consumo</th>\n",
       "      <th>tipo_motor</th>\n",
       "      <th>tasa</th>\n",
       "      <th>precio</th>\n",
       "    </tr>\n",
       "  </thead>\n",
       "  <tbody>\n",
       "    <tr>\n",
       "      <th>count</th>\n",
       "      <td>4960.000000</td>\n",
       "      <td>4960</td>\n",
       "      <td>4960</td>\n",
       "      <td>4960.000000</td>\n",
       "      <td>4960</td>\n",
       "      <td>4960.000000</td>\n",
       "      <td>4960</td>\n",
       "      <td>4960.00000</td>\n",
       "      <td>4960.000000</td>\n",
       "      <td>4960.000000</td>\n",
       "      <td>4960.000000</td>\n",
       "    </tr>\n",
       "    <tr>\n",
       "      <th>unique</th>\n",
       "      <td>NaN</td>\n",
       "      <td>9</td>\n",
       "      <td>90</td>\n",
       "      <td>NaN</td>\n",
       "      <td>4</td>\n",
       "      <td>NaN</td>\n",
       "      <td>5</td>\n",
       "      <td>NaN</td>\n",
       "      <td>NaN</td>\n",
       "      <td>NaN</td>\n",
       "      <td>NaN</td>\n",
       "    </tr>\n",
       "    <tr>\n",
       "      <th>top</th>\n",
       "      <td>NaN</td>\n",
       "      <td>merc</td>\n",
       "      <td>Arteon</td>\n",
       "      <td>NaN</td>\n",
       "      <td>Manual</td>\n",
       "      <td>NaN</td>\n",
       "      <td>Diesel</td>\n",
       "      <td>NaN</td>\n",
       "      <td>NaN</td>\n",
       "      <td>NaN</td>\n",
       "      <td>NaN</td>\n",
       "    </tr>\n",
       "    <tr>\n",
       "      <th>freq</th>\n",
       "      <td>NaN</td>\n",
       "      <td>790</td>\n",
       "      <td>167</td>\n",
       "      <td>NaN</td>\n",
       "      <td>1948</td>\n",
       "      <td>NaN</td>\n",
       "      <td>2989</td>\n",
       "      <td>NaN</td>\n",
       "      <td>NaN</td>\n",
       "      <td>NaN</td>\n",
       "      <td>NaN</td>\n",
       "    </tr>\n",
       "    <tr>\n",
       "      <th>mean</th>\n",
       "      <td>15832.446169</td>\n",
       "      <td>NaN</td>\n",
       "      <td>NaN</td>\n",
       "      <td>2016.737903</td>\n",
       "      <td>NaN</td>\n",
       "      <td>24956.286895</td>\n",
       "      <td>NaN</td>\n",
       "      <td>5.37672</td>\n",
       "      <td>2.124375</td>\n",
       "      <td>152.332661</td>\n",
       "      <td>23469.943750</td>\n",
       "    </tr>\n",
       "    <tr>\n",
       "      <th>std</th>\n",
       "      <td>2206.717006</td>\n",
       "      <td>NaN</td>\n",
       "      <td>NaN</td>\n",
       "      <td>2.884035</td>\n",
       "      <td>NaN</td>\n",
       "      <td>24443.333662</td>\n",
       "      <td>NaN</td>\n",
       "      <td>3.14126</td>\n",
       "      <td>0.789368</td>\n",
       "      <td>82.403844</td>\n",
       "      <td>16406.714563</td>\n",
       "    </tr>\n",
       "    <tr>\n",
       "      <th>min</th>\n",
       "      <td>12002.000000</td>\n",
       "      <td>NaN</td>\n",
       "      <td>NaN</td>\n",
       "      <td>1997.000000</td>\n",
       "      <td>NaN</td>\n",
       "      <td>1.000000</td>\n",
       "      <td>NaN</td>\n",
       "      <td>0.50000</td>\n",
       "      <td>0.000000</td>\n",
       "      <td>0.000000</td>\n",
       "      <td>450.000000</td>\n",
       "    </tr>\n",
       "    <tr>\n",
       "      <th>25%</th>\n",
       "      <td>13929.250000</td>\n",
       "      <td>NaN</td>\n",
       "      <td>NaN</td>\n",
       "      <td>2016.000000</td>\n",
       "      <td>NaN</td>\n",
       "      <td>5641.250000</td>\n",
       "      <td>NaN</td>\n",
       "      <td>4.33000</td>\n",
       "      <td>1.600000</td>\n",
       "      <td>145.000000</td>\n",
       "      <td>12000.000000</td>\n",
       "    </tr>\n",
       "    <tr>\n",
       "      <th>50%</th>\n",
       "      <td>15840.000000</td>\n",
       "      <td>NaN</td>\n",
       "      <td>NaN</td>\n",
       "      <td>2017.000000</td>\n",
       "      <td>NaN</td>\n",
       "      <td>19000.000000</td>\n",
       "      <td>NaN</td>\n",
       "      <td>4.99000</td>\n",
       "      <td>2.000000</td>\n",
       "      <td>145.000000</td>\n",
       "      <td>18999.000000</td>\n",
       "    </tr>\n",
       "    <tr>\n",
       "      <th>75%</th>\n",
       "      <td>17765.750000</td>\n",
       "      <td>NaN</td>\n",
       "      <td>NaN</td>\n",
       "      <td>2019.000000</td>\n",
       "      <td>NaN</td>\n",
       "      <td>36702.000000</td>\n",
       "      <td>NaN</td>\n",
       "      <td>6.08000</td>\n",
       "      <td>2.800000</td>\n",
       "      <td>150.000000</td>\n",
       "      <td>30335.750000</td>\n",
       "    </tr>\n",
       "    <tr>\n",
       "      <th>max</th>\n",
       "      <td>19629.000000</td>\n",
       "      <td>NaN</td>\n",
       "      <td>NaN</td>\n",
       "      <td>2020.000000</td>\n",
       "      <td>NaN</td>\n",
       "      <td>259000.000000</td>\n",
       "      <td>NaN</td>\n",
       "      <td>84.01000</td>\n",
       "      <td>6.600000</td>\n",
       "      <td>580.000000</td>\n",
       "      <td>145000.000000</td>\n",
       "    </tr>\n",
       "  </tbody>\n",
       "</table>\n",
       "</div>"
      ],
      "text/plain": [
       "                  ID marca   modelo        fecha tipo_cambio       total_km  \\\n",
       "count    4960.000000  4960     4960  4960.000000        4960    4960.000000   \n",
       "unique           NaN     9       90          NaN           4            NaN   \n",
       "top              NaN  merc   Arteon          NaN      Manual            NaN   \n",
       "freq             NaN   790      167          NaN        1948            NaN   \n",
       "mean    15832.446169   NaN      NaN  2016.737903         NaN   24956.286895   \n",
       "std      2206.717006   NaN      NaN     2.884035         NaN   24443.333662   \n",
       "min     12002.000000   NaN      NaN  1997.000000         NaN       1.000000   \n",
       "25%     13929.250000   NaN      NaN  2016.000000         NaN    5641.250000   \n",
       "50%     15840.000000   NaN      NaN  2017.000000         NaN   19000.000000   \n",
       "75%     17765.750000   NaN      NaN  2019.000000         NaN   36702.000000   \n",
       "max     19629.000000   NaN      NaN  2020.000000         NaN  259000.000000   \n",
       "\n",
       "       tipo_combustible     consumo   tipo_motor         tasa         precio  \n",
       "count              4960  4960.00000  4960.000000  4960.000000    4960.000000  \n",
       "unique                5         NaN          NaN          NaN            NaN  \n",
       "top              Diesel         NaN          NaN          NaN            NaN  \n",
       "freq               2989         NaN          NaN          NaN            NaN  \n",
       "mean                NaN     5.37672     2.124375   152.332661   23469.943750  \n",
       "std                 NaN     3.14126     0.789368    82.403844   16406.714563  \n",
       "min                 NaN     0.50000     0.000000     0.000000     450.000000  \n",
       "25%                 NaN     4.33000     1.600000   145.000000   12000.000000  \n",
       "50%                 NaN     4.99000     2.000000   145.000000   18999.000000  \n",
       "75%                 NaN     6.08000     2.800000   150.000000   30335.750000  \n",
       "max                 NaN    84.01000     6.600000   580.000000  145000.000000  "
      ]
     },
     "execution_count": 16,
     "metadata": {},
     "output_type": "execute_result"
    }
   ],
   "source": [
    "coches_train.describe(include = 'all')"
   ]
  },
  {
   "cell_type": "code",
   "execution_count": 17,
   "id": "8adab07b",
   "metadata": {},
   "outputs": [
    {
     "data": {
      "text/html": [
       "<div>\n",
       "<style scoped>\n",
       "    .dataframe tbody tr th:only-of-type {\n",
       "        vertical-align: middle;\n",
       "    }\n",
       "\n",
       "    .dataframe tbody tr th {\n",
       "        vertical-align: top;\n",
       "    }\n",
       "\n",
       "    .dataframe thead th {\n",
       "        text-align: right;\n",
       "    }\n",
       "</style>\n",
       "<table border=\"1\" class=\"dataframe\">\n",
       "  <thead>\n",
       "    <tr style=\"text-align: right;\">\n",
       "      <th></th>\n",
       "      <th>ID</th>\n",
       "      <th>marca</th>\n",
       "      <th>modelo</th>\n",
       "      <th>fecha</th>\n",
       "      <th>tipo_cambio</th>\n",
       "      <th>total_km</th>\n",
       "      <th>tipo_combustible</th>\n",
       "      <th>consumo</th>\n",
       "      <th>tipo_motor</th>\n",
       "      <th>tasa</th>\n",
       "      <th>precio</th>\n",
       "    </tr>\n",
       "  </thead>\n",
       "  <tbody>\n",
       "    <tr>\n",
       "      <th>count</th>\n",
       "      <td>2672.000000</td>\n",
       "      <td>2672</td>\n",
       "      <td>2672</td>\n",
       "      <td>2672.000000</td>\n",
       "      <td>2672</td>\n",
       "      <td>2672.000000</td>\n",
       "      <td>2672</td>\n",
       "      <td>2672.000000</td>\n",
       "      <td>2672.000000</td>\n",
       "      <td>2672.000000</td>\n",
       "      <td>2672.000000</td>\n",
       "    </tr>\n",
       "    <tr>\n",
       "      <th>unique</th>\n",
       "      <td>NaN</td>\n",
       "      <td>9</td>\n",
       "      <td>89</td>\n",
       "      <td>NaN</td>\n",
       "      <td>4</td>\n",
       "      <td>NaN</td>\n",
       "      <td>5</td>\n",
       "      <td>NaN</td>\n",
       "      <td>NaN</td>\n",
       "      <td>NaN</td>\n",
       "      <td>NaN</td>\n",
       "    </tr>\n",
       "    <tr>\n",
       "      <th>top</th>\n",
       "      <td>NaN</td>\n",
       "      <td>ford</td>\n",
       "      <td>Santa Fe</td>\n",
       "      <td>NaN</td>\n",
       "      <td>Manual</td>\n",
       "      <td>NaN</td>\n",
       "      <td>Diesel</td>\n",
       "      <td>NaN</td>\n",
       "      <td>NaN</td>\n",
       "      <td>NaN</td>\n",
       "      <td>NaN</td>\n",
       "    </tr>\n",
       "    <tr>\n",
       "      <th>freq</th>\n",
       "      <td>NaN</td>\n",
       "      <td>430</td>\n",
       "      <td>95</td>\n",
       "      <td>NaN</td>\n",
       "      <td>989</td>\n",
       "      <td>NaN</td>\n",
       "      <td>1662</td>\n",
       "      <td>NaN</td>\n",
       "      <td>NaN</td>\n",
       "      <td>NaN</td>\n",
       "      <td>NaN</td>\n",
       "    </tr>\n",
       "    <tr>\n",
       "      <th>mean</th>\n",
       "      <td>15784.043039</td>\n",
       "      <td>NaN</td>\n",
       "      <td>NaN</td>\n",
       "      <td>2016.720434</td>\n",
       "      <td>NaN</td>\n",
       "      <td>24617.528443</td>\n",
       "      <td>NaN</td>\n",
       "      <td>5.437833</td>\n",
       "      <td>2.135105</td>\n",
       "      <td>153.261602</td>\n",
       "      <td>23784.075599</td>\n",
       "    </tr>\n",
       "    <tr>\n",
       "      <th>std</th>\n",
       "      <td>2197.045979</td>\n",
       "      <td>NaN</td>\n",
       "      <td>NaN</td>\n",
       "      <td>2.898906</td>\n",
       "      <td>NaN</td>\n",
       "      <td>23142.032992</td>\n",
       "      <td>NaN</td>\n",
       "      <td>3.392526</td>\n",
       "      <td>0.768596</td>\n",
       "      <td>80.742530</td>\n",
       "      <td>16600.736576</td>\n",
       "    </tr>\n",
       "    <tr>\n",
       "      <th>min</th>\n",
       "      <td>12000.000000</td>\n",
       "      <td>NaN</td>\n",
       "      <td>NaN</td>\n",
       "      <td>1970.000000</td>\n",
       "      <td>NaN</td>\n",
       "      <td>1.000000</td>\n",
       "      <td>NaN</td>\n",
       "      <td>0.500000</td>\n",
       "      <td>0.000000</td>\n",
       "      <td>0.000000</td>\n",
       "      <td>795.000000</td>\n",
       "    </tr>\n",
       "    <tr>\n",
       "      <th>25%</th>\n",
       "      <td>13889.750000</td>\n",
       "      <td>NaN</td>\n",
       "      <td>NaN</td>\n",
       "      <td>2016.000000</td>\n",
       "      <td>NaN</td>\n",
       "      <td>6000.000000</td>\n",
       "      <td>NaN</td>\n",
       "      <td>4.330000</td>\n",
       "      <td>1.600000</td>\n",
       "      <td>145.000000</td>\n",
       "      <td>12490.750000</td>\n",
       "    </tr>\n",
       "    <tr>\n",
       "      <th>50%</th>\n",
       "      <td>15777.500000</td>\n",
       "      <td>NaN</td>\n",
       "      <td>NaN</td>\n",
       "      <td>2017.000000</td>\n",
       "      <td>NaN</td>\n",
       "      <td>18548.000000</td>\n",
       "      <td>NaN</td>\n",
       "      <td>4.990000</td>\n",
       "      <td>2.000000</td>\n",
       "      <td>145.000000</td>\n",
       "      <td>19495.000000</td>\n",
       "    </tr>\n",
       "    <tr>\n",
       "      <th>75%</th>\n",
       "      <td>17661.500000</td>\n",
       "      <td>NaN</td>\n",
       "      <td>NaN</td>\n",
       "      <td>2019.000000</td>\n",
       "      <td>NaN</td>\n",
       "      <td>36272.250000</td>\n",
       "      <td>NaN</td>\n",
       "      <td>6.240000</td>\n",
       "      <td>2.800000</td>\n",
       "      <td>160.000000</td>\n",
       "      <td>30500.000000</td>\n",
       "    </tr>\n",
       "    <tr>\n",
       "      <th>max</th>\n",
       "      <td>19631.000000</td>\n",
       "      <td>NaN</td>\n",
       "      <td>NaN</td>\n",
       "      <td>2020.000000</td>\n",
       "      <td>NaN</td>\n",
       "      <td>167054.000000</td>\n",
       "      <td>NaN</td>\n",
       "      <td>84.010000</td>\n",
       "      <td>6.300000</td>\n",
       "      <td>580.000000</td>\n",
       "      <td>159999.000000</td>\n",
       "    </tr>\n",
       "  </tbody>\n",
       "</table>\n",
       "</div>"
      ],
      "text/plain": [
       "                  ID marca     modelo        fecha tipo_cambio       total_km  \\\n",
       "count    2672.000000  2672       2672  2672.000000        2672    2672.000000   \n",
       "unique           NaN     9         89          NaN           4            NaN   \n",
       "top              NaN  ford   Santa Fe          NaN      Manual            NaN   \n",
       "freq             NaN   430         95          NaN         989            NaN   \n",
       "mean    15784.043039   NaN        NaN  2016.720434         NaN   24617.528443   \n",
       "std      2197.045979   NaN        NaN     2.898906         NaN   23142.032992   \n",
       "min     12000.000000   NaN        NaN  1970.000000         NaN       1.000000   \n",
       "25%     13889.750000   NaN        NaN  2016.000000         NaN    6000.000000   \n",
       "50%     15777.500000   NaN        NaN  2017.000000         NaN   18548.000000   \n",
       "75%     17661.500000   NaN        NaN  2019.000000         NaN   36272.250000   \n",
       "max     19631.000000   NaN        NaN  2020.000000         NaN  167054.000000   \n",
       "\n",
       "       tipo_combustible      consumo   tipo_motor         tasa         precio  \n",
       "count              2672  2672.000000  2672.000000  2672.000000    2672.000000  \n",
       "unique                5          NaN          NaN          NaN            NaN  \n",
       "top              Diesel          NaN          NaN          NaN            NaN  \n",
       "freq               1662          NaN          NaN          NaN            NaN  \n",
       "mean                NaN     5.437833     2.135105   153.261602   23784.075599  \n",
       "std                 NaN     3.392526     0.768596    80.742530   16600.736576  \n",
       "min                 NaN     0.500000     0.000000     0.000000     795.000000  \n",
       "25%                 NaN     4.330000     1.600000   145.000000   12490.750000  \n",
       "50%                 NaN     4.990000     2.000000   145.000000   19495.000000  \n",
       "75%                 NaN     6.240000     2.800000   160.000000   30500.000000  \n",
       "max                 NaN    84.010000     6.300000   580.000000  159999.000000  "
      ]
     },
     "execution_count": 17,
     "metadata": {},
     "output_type": "execute_result"
    }
   ],
   "source": [
    "coches_test.describe(include= 'all')"
   ]
  },
  {
   "cell_type": "markdown",
   "id": "1b9a8f81",
   "metadata": {},
   "source": [
    "## Contenido de las variables "
   ]
  },
  {
   "cell_type": "code",
   "execution_count": 18,
   "id": "c1d9f0fa",
   "metadata": {},
   "outputs": [
    {
     "name": "stdout",
     "output_type": "stream",
     "text": [
      "marca\n",
      "merc        1219\n",
      "ford        1196\n",
      "vw          1159\n",
      "bmw          978\n",
      "hyundi       817\n",
      "toyota       717\n",
      "skoda        638\n",
      "audi         523\n",
      "vauxhall     385\n",
      "Name: count, dtype: int64\n",
      "\n",
      "modelo\n",
      " Arteon         248\n",
      " Grand C-MAX    247\n",
      " Santa Fe       245\n",
      " Scirocco       242\n",
      " CLS Class      237\n",
      "               ... \n",
      " Eos              7\n",
      " CLK              7\n",
      " Z3               7\n",
      " Caddy            6\n",
      " Getz             6\n",
      "Name: count, Length: 90, dtype: int64\n",
      "\n",
      "fecha\n",
      "2019    2095\n",
      "2017    1230\n",
      "2016    1158\n",
      "2018     842\n",
      "2015     708\n",
      "2020     495\n",
      "2014     397\n",
      "2013     282\n",
      "2012      89\n",
      "2011      78\n",
      "2010      45\n",
      "2009      44\n",
      "2008      36\n",
      "2007      26\n",
      "2004      23\n",
      "2006      21\n",
      "2005      15\n",
      "2003      13\n",
      "2001      12\n",
      "2002       9\n",
      "1998       5\n",
      "1999       4\n",
      "1997       2\n",
      "2000       2\n",
      "1970       1\n",
      "Name: count, dtype: int64\n",
      "\n",
      "total_km\n",
      "1000     70\n",
      "5000     68\n",
      "10       66\n",
      "3000     44\n",
      "6000     39\n",
      "         ..\n",
      "933       1\n",
      "41167     1\n",
      "52456     1\n",
      "28831     1\n",
      "99500     1\n",
      "Name: count, Length: 5790, dtype: int64\n",
      "\n",
      "tipo_combustible\n",
      "Diesel      4651\n",
      "Petrol      2655\n",
      "Hybrid       287\n",
      "Other         36\n",
      "Electric       3\n",
      "Name: count, dtype: int64\n",
      "\n",
      "consumo\n",
      "4.67     340\n",
      "4.99     339\n",
      "4.08     293\n",
      "4.83     253\n",
      "4.41     242\n",
      "        ... \n",
      "8.34       1\n",
      "1.83       1\n",
      "13.21      1\n",
      "12.00      1\n",
      "2.08       1\n",
      "Name: count, Length: 125, dtype: int64\n",
      "\n",
      "tipo_motor\n",
      "2.0    2011\n",
      "3.0    1455\n",
      "1.5     503\n",
      "1.6     451\n",
      "1.2     423\n",
      "1.0     386\n",
      "2.1     360\n",
      "1.8     343\n",
      "2.2     328\n",
      "1.4     295\n",
      "1.7     178\n",
      "2.5     172\n",
      "2.9     130\n",
      "4.0      94\n",
      "2.3      87\n",
      "2.4      72\n",
      "4.4      60\n",
      "0.0      57\n",
      "5.0      47\n",
      "2.8      36\n",
      "4.2      24\n",
      "5.2      22\n",
      "1.3      22\n",
      "3.2      15\n",
      "5.5      14\n",
      "3.5       9\n",
      "4.7       8\n",
      "0.6       7\n",
      "1.9       6\n",
      "2.7       4\n",
      "1.1       4\n",
      "6.0       2\n",
      "6.6       2\n",
      "6.2       1\n",
      "4.3       1\n",
      "3.7       1\n",
      "4.5       1\n",
      "6.3       1\n",
      "Name: count, dtype: int64\n",
      "\n",
      "tasa\n",
      "145.0    3393\n",
      "150.0     681\n",
      "30.0      642\n",
      "125.0     483\n",
      "200.0     404\n",
      "260.0     317\n",
      "160.0     293\n",
      "20.0      192\n",
      "0.0       184\n",
      "205.0     129\n",
      "325.0     122\n",
      "300.0     119\n",
      "135.0      99\n",
      "165.0      93\n",
      "235.0      90\n",
      "265.0      89\n",
      "555.0      45\n",
      "305.0      40\n",
      "140.0      34\n",
      "330.0      33\n",
      "570.0      32\n",
      "240.0      28\n",
      "10.0       23\n",
      "565.0      13\n",
      "580.0       8\n",
      "190.0       7\n",
      "315.0       5\n",
      "270.0       5\n",
      "230.0       4\n",
      "250.0       4\n",
      "195.0       3\n",
      "220.0       3\n",
      "540.0       3\n",
      "120.0       2\n",
      "280.0       2\n",
      "115.0       1\n",
      "515.0       1\n",
      "245.0       1\n",
      "185.0       1\n",
      "155.0       1\n",
      "290.0       1\n",
      "535.0       1\n",
      "255.0       1\n",
      "Name: count, dtype: int64\n",
      "\n"
     ]
    }
   ],
   "source": [
    "# Veamos los valores de las variables categóricas\n",
    "\n",
    "for col in ['marca', 'modelo', 'fecha', 'total_km', 'tipo_combustible', 'consumo', 'tipo_motor', 'tasa']:\n",
    "    print(coches_dataset[col].value_counts())\n",
    "    print('')"
   ]
  },
  {
   "cell_type": "markdown",
   "id": "37d2d4f6",
   "metadata": {},
   "source": [
    "# Limpieza de datos"
   ]
  },
  {
   "cell_type": "markdown",
   "id": "27b013c2",
   "metadata": {},
   "source": [
    "### Duplicados"
   ]
  },
  {
   "cell_type": "code",
   "execution_count": 19,
   "id": "f2b0282a",
   "metadata": {},
   "outputs": [
    {
     "name": "stdout",
     "output_type": "stream",
     "text": [
      "Duplicados en el conjunto de entrenamiento:\n",
      "Empty DataFrame\n",
      "Columns: [ID, marca, modelo, fecha, tipo_cambio, total_km, tipo_combustible, consumo, tipo_motor, tasa, precio]\n",
      "Index: []\n",
      "\n",
      "Duplicados en el conjunto de prueba:\n",
      "Empty DataFrame\n",
      "Columns: [ID, marca, modelo, fecha, tipo_cambio, total_km, tipo_combustible, consumo, tipo_motor, tasa, precio]\n",
      "Index: []\n"
     ]
    }
   ],
   "source": [
    "# Identificar duplicados en el conjunto de entrenamiento\n",
    "duplicados_train = coches_train[coches_train.duplicated()]\n",
    "\n",
    "# Identificar duplicados en el conjunto de prueba\n",
    "duplicados_test = coches_test[coches_test.duplicated()]\n",
    "\n",
    "# Mostrar información sobre duplicados\n",
    "print(\"Duplicados en el conjunto de entrenamiento:\")\n",
    "print(duplicados_train)\n",
    "\n",
    "print(\"\\nDuplicados en el conjunto de prueba:\")\n",
    "print(duplicados_test)"
   ]
  },
  {
   "cell_type": "markdown",
   "id": "e39bee4e",
   "metadata": {},
   "source": [
    "### Nulos "
   ]
  },
  {
   "cell_type": "code",
   "execution_count": 20,
   "id": "fbde946b",
   "metadata": {},
   "outputs": [
    {
     "name": "stdout",
     "output_type": "stream",
     "text": [
      "Valores nulos por columna:\n",
      "ID                  0\n",
      "marca               0\n",
      "modelo              0\n",
      "fecha               0\n",
      "tipo_cambio         0\n",
      "total_km            0\n",
      "tipo_combustible    0\n",
      "consumo             0\n",
      "tipo_motor          0\n",
      "tasa                0\n",
      "precio              0\n",
      "dtype: int64\n",
      "\n",
      "Valores nulos por fila:\n",
      "0       0\n",
      "1       0\n",
      "2       0\n",
      "3       0\n",
      "4       0\n",
      "       ..\n",
      "7627    0\n",
      "7628    0\n",
      "7629    0\n",
      "7630    0\n",
      "7631    0\n",
      "Length: 7632, dtype: int64\n"
     ]
    }
   ],
   "source": [
    "valores_nulos = coches_dataset.isnull()\n",
    "\n",
    "# Suma de los valores nulos por columna\n",
    "total_nulos_por_columna = valores_nulos.sum()\n",
    "\n",
    "# Suma de los valores nulos por fila (si es necesario)\n",
    "total_nulos_por_fila = valores_nulos.sum(axis=1)\n",
    "\n",
    "\n",
    "# Mostrar resultados\n",
    "print(\"Valores nulos por columna:\")\n",
    "print(total_nulos_por_columna)\n",
    "\n",
    "\n",
    "print(\"\\nValores nulos por fila:\")\n",
    "print(total_nulos_por_fila)\n"
   ]
  },
  {
   "cell_type": "markdown",
   "id": "65c1a1a4",
   "metadata": {},
   "source": [
    "### Outliers\n",
    "\n",
    "Las funciones usadas muestran posibles outliers, precios por encima de los 60000 euros, no obstante, corresponden a marcas de lujo, por lo que tomo la decisión de conservalos "
   ]
  },
  {
   "cell_type": "code",
   "execution_count": 21,
   "id": "9718948e",
   "metadata": {},
   "outputs": [
    {
     "data": {
      "text/html": [
       "<div>\n",
       "<style scoped>\n",
       "    .dataframe tbody tr th:only-of-type {\n",
       "        vertical-align: middle;\n",
       "    }\n",
       "\n",
       "    .dataframe tbody tr th {\n",
       "        vertical-align: top;\n",
       "    }\n",
       "\n",
       "    .dataframe thead th {\n",
       "        text-align: right;\n",
       "    }\n",
       "</style>\n",
       "<table border=\"1\" class=\"dataframe\">\n",
       "  <thead>\n",
       "    <tr style=\"text-align: right;\">\n",
       "      <th></th>\n",
       "      <th>ID</th>\n",
       "      <th>marca</th>\n",
       "      <th>modelo</th>\n",
       "      <th>fecha</th>\n",
       "      <th>tipo_cambio</th>\n",
       "      <th>total_km</th>\n",
       "      <th>tipo_combustible</th>\n",
       "      <th>consumo</th>\n",
       "      <th>tipo_motor</th>\n",
       "      <th>tasa</th>\n",
       "      <th>precio</th>\n",
       "    </tr>\n",
       "  </thead>\n",
       "  <tbody>\n",
       "    <tr>\n",
       "      <th>2</th>\n",
       "      <td>12342</td>\n",
       "      <td>audi</td>\n",
       "      <td>RS4</td>\n",
       "      <td>2019</td>\n",
       "      <td>Automatic</td>\n",
       "      <td>5151</td>\n",
       "      <td>Petrol</td>\n",
       "      <td>8.08</td>\n",
       "      <td>2.9</td>\n",
       "      <td>145.0</td>\n",
       "      <td>58990</td>\n",
       "    </tr>\n",
       "    <tr>\n",
       "      <th>80</th>\n",
       "      <td>12567</td>\n",
       "      <td>bmw</td>\n",
       "      <td>i8</td>\n",
       "      <td>2018</td>\n",
       "      <td>Automatic</td>\n",
       "      <td>11278</td>\n",
       "      <td>Hybrid</td>\n",
       "      <td>1.75</td>\n",
       "      <td>1.5</td>\n",
       "      <td>135.0</td>\n",
       "      <td>57870</td>\n",
       "    </tr>\n",
       "    <tr>\n",
       "      <th>114</th>\n",
       "      <td>14282</td>\n",
       "      <td>vw</td>\n",
       "      <td>California</td>\n",
       "      <td>2019</td>\n",
       "      <td>Semi-Auto</td>\n",
       "      <td>3544</td>\n",
       "      <td>Diesel</td>\n",
       "      <td>8.08</td>\n",
       "      <td>2.0</td>\n",
       "      <td>260.0</td>\n",
       "      <td>69994</td>\n",
       "    </tr>\n",
       "    <tr>\n",
       "      <th>133</th>\n",
       "      <td>18085</td>\n",
       "      <td>merc</td>\n",
       "      <td>G Class</td>\n",
       "      <td>2018</td>\n",
       "      <td>Semi-Auto</td>\n",
       "      <td>18234</td>\n",
       "      <td>Petrol</td>\n",
       "      <td>10.99</td>\n",
       "      <td>4.0</td>\n",
       "      <td>150.0</td>\n",
       "      <td>135124</td>\n",
       "    </tr>\n",
       "    <tr>\n",
       "      <th>150</th>\n",
       "      <td>12198</td>\n",
       "      <td>bmw</td>\n",
       "      <td>X7</td>\n",
       "      <td>2019</td>\n",
       "      <td>Semi-Auto</td>\n",
       "      <td>10</td>\n",
       "      <td>Diesel</td>\n",
       "      <td>7.49</td>\n",
       "      <td>3.0</td>\n",
       "      <td>145.0</td>\n",
       "      <td>76970</td>\n",
       "    </tr>\n",
       "    <tr>\n",
       "      <th>...</th>\n",
       "      <td>...</td>\n",
       "      <td>...</td>\n",
       "      <td>...</td>\n",
       "      <td>...</td>\n",
       "      <td>...</td>\n",
       "      <td>...</td>\n",
       "      <td>...</td>\n",
       "      <td>...</td>\n",
       "      <td>...</td>\n",
       "      <td>...</td>\n",
       "      <td>...</td>\n",
       "    </tr>\n",
       "    <tr>\n",
       "      <th>7558</th>\n",
       "      <td>19423</td>\n",
       "      <td>audi</td>\n",
       "      <td>R8</td>\n",
       "      <td>2019</td>\n",
       "      <td>Semi-Auto</td>\n",
       "      <td>500</td>\n",
       "      <td>Petrol</td>\n",
       "      <td>10.99</td>\n",
       "      <td>5.2</td>\n",
       "      <td>145.0</td>\n",
       "      <td>125000</td>\n",
       "    </tr>\n",
       "    <tr>\n",
       "      <th>7559</th>\n",
       "      <td>19427</td>\n",
       "      <td>audi</td>\n",
       "      <td>Q8</td>\n",
       "      <td>2019</td>\n",
       "      <td>Automatic</td>\n",
       "      <td>3011</td>\n",
       "      <td>Diesel</td>\n",
       "      <td>7.17</td>\n",
       "      <td>3.0</td>\n",
       "      <td>145.0</td>\n",
       "      <td>77888</td>\n",
       "    </tr>\n",
       "    <tr>\n",
       "      <th>7564</th>\n",
       "      <td>19440</td>\n",
       "      <td>bmw</td>\n",
       "      <td>i8</td>\n",
       "      <td>2019</td>\n",
       "      <td>Automatic</td>\n",
       "      <td>2277</td>\n",
       "      <td>Hybrid</td>\n",
       "      <td>1.67</td>\n",
       "      <td>1.5</td>\n",
       "      <td>140.0</td>\n",
       "      <td>64750</td>\n",
       "    </tr>\n",
       "    <tr>\n",
       "      <th>7568</th>\n",
       "      <td>19450</td>\n",
       "      <td>audi</td>\n",
       "      <td>RS6</td>\n",
       "      <td>2020</td>\n",
       "      <td>Semi-Auto</td>\n",
       "      <td>3220</td>\n",
       "      <td>Petrol</td>\n",
       "      <td>10.64</td>\n",
       "      <td>4.0</td>\n",
       "      <td>150.0</td>\n",
       "      <td>97500</td>\n",
       "    </tr>\n",
       "    <tr>\n",
       "      <th>7622</th>\n",
       "      <td>19607</td>\n",
       "      <td>audi</td>\n",
       "      <td>Q8</td>\n",
       "      <td>2018</td>\n",
       "      <td>Semi-Auto</td>\n",
       "      <td>8450</td>\n",
       "      <td>Diesel</td>\n",
       "      <td>7.17</td>\n",
       "      <td>3.0</td>\n",
       "      <td>145.0</td>\n",
       "      <td>63985</td>\n",
       "    </tr>\n",
       "  </tbody>\n",
       "</table>\n",
       "<p>344 rows × 11 columns</p>\n",
       "</div>"
      ],
      "text/plain": [
       "         ID marca       modelo  fecha tipo_cambio  total_km tipo_combustible  \\\n",
       "2     12342  audi          RS4   2019   Automatic      5151           Petrol   \n",
       "80    12567   bmw           i8   2018   Automatic     11278           Hybrid   \n",
       "114   14282    vw   California   2019   Semi-Auto      3544           Diesel   \n",
       "133   18085  merc      G Class   2018   Semi-Auto     18234           Petrol   \n",
       "150   12198   bmw           X7   2019   Semi-Auto        10           Diesel   \n",
       "...     ...   ...          ...    ...         ...       ...              ...   \n",
       "7558  19423  audi           R8   2019   Semi-Auto       500           Petrol   \n",
       "7559  19427  audi           Q8   2019   Automatic      3011           Diesel   \n",
       "7564  19440   bmw           i8   2019   Automatic      2277           Hybrid   \n",
       "7568  19450  audi          RS6   2020   Semi-Auto      3220           Petrol   \n",
       "7622  19607  audi           Q8   2018   Semi-Auto      8450           Diesel   \n",
       "\n",
       "      consumo  tipo_motor   tasa  precio  \n",
       "2        8.08         2.9  145.0   58990  \n",
       "80       1.75         1.5  135.0   57870  \n",
       "114      8.08         2.0  260.0   69994  \n",
       "133     10.99         4.0  150.0  135124  \n",
       "150      7.49         3.0  145.0   76970  \n",
       "...       ...         ...    ...     ...  \n",
       "7558    10.99         5.2  145.0  125000  \n",
       "7559     7.17         3.0  145.0   77888  \n",
       "7564     1.67         1.5  140.0   64750  \n",
       "7568    10.64         4.0  150.0   97500  \n",
       "7622     7.17         3.0  145.0   63985  \n",
       "\n",
       "[344 rows x 11 columns]"
      ]
     },
     "execution_count": 21,
     "metadata": {},
     "output_type": "execute_result"
    }
   ],
   "source": [
    "mean = coches_dataset['precio'].mean()\n",
    "std = coches_dataset['precio'].std()\n",
    "lower_bound = mean - 2 * std\n",
    "upper_bound = mean + 2 * std\n",
    "outliers = coches_dataset[(coches_dataset['precio'] < lower_bound) | (coches_dataset['precio'] > upper_bound)]\n",
    "outliers"
   ]
  },
  {
   "cell_type": "code",
   "execution_count": 22,
   "id": "9fff8dd7",
   "metadata": {},
   "outputs": [
    {
     "data": {
      "image/png": "[encoded data removed]",
      "text/plain": [
       "<Figure size 640x480 with 1 Axes>"
      ]
     },
     "metadata": {},
     "output_type": "display_data"
    }
   ],
   "source": [
    "#representación gráfica de outliers\n",
    "\n",
    "sns.boxplot(x=coches_dataset['precio'])\n",
    "plt.show()"
   ]
  },
  {
   "cell_type": "markdown",
   "id": "94befed9",
   "metadata": {},
   "source": [
    "# Análisis de la información"
   ]
  },
  {
   "cell_type": "markdown",
   "id": "941bdd0d",
   "metadata": {},
   "source": [
    "### Distribución general de las variables númericas"
   ]
  },
  {
   "cell_type": "code",
   "execution_count": 23,
   "id": "19a59faa",
   "metadata": {},
   "outputs": [
    {
     "data": {
      "image/png": "[encoded data removed]",
      "text/plain": [
       "<Figure size 640x480 with 1 Axes>"
      ]
     },
     "metadata": {},
     "output_type": "display_data"
    },
    {
     "data": {
      "image/png": "[encoded data removed]",
      "text/plain": [
       "<Figure size 640x480 with 1 Axes>"
      ]
     },
     "metadata": {},
     "output_type": "display_data"
    },
    {
     "data": {
      "image/png": "[encoded data removed]",
      "text/plain": [
       "<Figure size 640x480 with 1 Axes>"
      ]
     },
     "metadata": {},
     "output_type": "display_data"
    },
    {
     "data": {
      "image/png": "[encoded data removed]",
      "text/plain": [
       "<Figure size 640x480 with 1 Axes>"
      ]
     },
     "metadata": {},
     "output_type": "display_data"
    },
    {
     "data": {
      "image/png": "[encoded data removed]",
      "text/plain": [
       "<Figure size 640x480 with 1 Axes>"
      ]
     },
     "metadata": {},
     "output_type": "display_data"
    }
   ],
   "source": [
    "## distribución general de las variables númericas\n",
    "\n",
    "for col in ['total_km', 'consumo', 'tipo_motor', 'tasa', 'precio']:\n",
    "    plt.hist(coches_dataset[col], bins = 20)\n",
    "    plt.title(col)\n",
    "    plt.show()\n",
    "    plt.close()"
   ]
  },
  {
   "cell_type": "markdown",
   "id": "b9ddce45",
   "metadata": {},
   "source": [
    "Se observa que el total de km recorridos se distribuye entre 0 a 100.000km; el consumo se mantiene por debajo de 20km/litro; el tipo de motor predominante es entre 2.0 y 2.5 cc; la tasa  predominante es de 150 euros de impuesto para la circulación del coche; y por último, el precio, aunque se encuentra en un rango entre 0 y 80000 euros, su distribución se concentra en los 20000 a 30000 euros. "
   ]
  },
  {
   "cell_type": "markdown",
   "id": "eed89168",
   "metadata": {},
   "source": [
    "### Distribución de la variable precio   (Rta a pregunta 1)"
   ]
  },
  {
   "cell_type": "code",
   "execution_count": 24,
   "id": "58f8121c",
   "metadata": {},
   "outputs": [
    {
     "data": {
      "image/png": "[encoded data removed]",
      "text/plain": [
       "<Figure size 1000x800 with 1 Axes>"
      ]
     },
     "metadata": {},
     "output_type": "display_data"
    }
   ],
   "source": [
    "## Respuesta a pregunta 1. Representar gráficamente la distribución de la variable precio en el conjunto \n",
    "\n",
    "# Configuración del tamaño de la figura\n",
    "plt.figure(figsize=(10, 8))\n",
    "\n",
    "# Crear un histograma\n",
    "plt.hist(coches_dataset['precio'], bins=20, color='blue', edgecolor='black')\n",
    "\n",
    "# Configuración de etiquetas y título\n",
    "plt.title('Distribución de Precios en el Conjunto de Entrenamiento')\n",
    "plt.xlabel('Precio')\n",
    "plt.ylabel('Frecuencia')\n",
    "\n",
    "# Mostrar el histograma\n",
    "plt.show()"
   ]
  },
  {
   "cell_type": "markdown",
   "id": "de74faf6",
   "metadata": {},
   "source": [
    "En este gráfico exclusivo del precio, se observa como es predmoninante encontrar coches con precios entre los 10000 y 30000 euros en el data set completo; observando a su vez, pocos coches con precios mayores de 45000 euros hasta los 80000-100000 euros, los cuales hacen referencia a aquellos autos de marcas de lujo, como audi o bmw. "
   ]
  },
  {
   "cell_type": "markdown",
   "id": "223f25d6",
   "metadata": {},
   "source": [
    "### Precios promedio por marca de acuerdo con dataset (Rta pregunta 2)"
   ]
  },
  {
   "cell_type": "code",
   "execution_count": 25,
   "id": "9dab2589",
   "metadata": {},
   "outputs": [
    {
     "data": {
      "text/plain": [
       "marca\n",
       "audi        43055.277247\n",
       "bmw         38015.820041\n",
       "ford        15933.644649\n",
       "hyundi      14763.489596\n",
       "merc        30236.407711\n",
       "skoda       13908.515674\n",
       "toyota      18778.782427\n",
       "vauxhall    11978.981818\n",
       "vw          21862.010354\n",
       "Name: precio, dtype: float64"
      ]
     },
     "execution_count": 25,
     "metadata": {},
     "output_type": "execute_result"
    }
   ],
   "source": [
    "# se calcula el precio promedio por marca\n",
    "\n",
    "precio_promedio_marca = coches_dataset.groupby ('marca')['precio'].mean()\n",
    "precio_promedio_marca"
   ]
  },
  {
   "cell_type": "markdown",
   "id": "01a1396c",
   "metadata": {},
   "source": [
    "Se observa que audi y bmw son las marcas más costosas incluidas en el dataset"
   ]
  },
  {
   "cell_type": "markdown",
   "id": "2fbb7ac1",
   "metadata": {},
   "source": [
    "### Marca más cara y más barata "
   ]
  },
  {
   "cell_type": "code",
   "execution_count": 26,
   "id": "da583566",
   "metadata": {},
   "outputs": [
    {
     "data": {
      "text/plain": [
       "'audi'"
      ]
     },
     "execution_count": 26,
     "metadata": {},
     "output_type": "execute_result"
    }
   ],
   "source": [
    "\n",
    "# marca más cara\n",
    "\n",
    "marca_mas_cara = precio_promedio_marca.idxmax()\n",
    "\n",
    "marca_mas_cara\n"
   ]
  },
  {
   "cell_type": "code",
   "execution_count": 27,
   "id": "4204c005",
   "metadata": {},
   "outputs": [
    {
     "data": {
      "text/plain": [
       "'vauxhall'"
      ]
     },
     "execution_count": 27,
     "metadata": {},
     "output_type": "execute_result"
    }
   ],
   "source": [
    "marca_mas_barata = precio_promedio_marca.idxmin()\n",
    "marca_mas_barata"
   ]
  },
  {
   "cell_type": "markdown",
   "id": "2472a789",
   "metadata": {},
   "source": [
    "Se observa que la marca más cara corresponde a \"audi\", mientras que la más barata es \"vauxhall\""
   ]
  },
  {
   "cell_type": "markdown",
   "id": "d27a0728",
   "metadata": {},
   "source": [
    "### Representar gráficamente la dependencia entre el precio y el kilometraje (Rta pregunta 3)"
   ]
  },
  {
   "cell_type": "code",
   "execution_count": 28,
   "id": "154b2b95",
   "metadata": {},
   "outputs": [
    {
     "data": {
      "text/plain": [
       "<Axes: xlabel='precio', ylabel='total_km'>"
      ]
     },
     "execution_count": 28,
     "metadata": {},
     "output_type": "execute_result"
    },
    {
     "data": {
      "image/png": "[encoded data removed]",
      "text/plain": [
       "<Figure size 640x480 with 1 Axes>"
      ]
     },
     "metadata": {},
     "output_type": "display_data"
    }
   ],
   "source": [
    "# Relación entre la variable precio y el kilometraje\n",
    "coches_dataset.plot(x = 'precio', y = 'total_km', kind = 'scatter')"
   ]
  },
  {
   "cell_type": "markdown",
   "id": "2656a3d1",
   "metadata": {},
   "source": [
    "Se observa una alta dependencia entre las variables, permitiendo inferir que a mayor cantidad de kilometros recorridos por el coche, este pierde su valor "
   ]
  },
  {
   "cell_type": "markdown",
   "id": "d1abff3f",
   "metadata": {},
   "source": [
    "### Correlación entre variables numéricas "
   ]
  },
  {
   "cell_type": "code",
   "execution_count": 29,
   "id": "6948ac54",
   "metadata": {},
   "outputs": [
    {
     "data": {
      "text/html": [
       "<div>\n",
       "<style scoped>\n",
       "    .dataframe tbody tr th:only-of-type {\n",
       "        vertical-align: middle;\n",
       "    }\n",
       "\n",
       "    .dataframe tbody tr th {\n",
       "        vertical-align: top;\n",
       "    }\n",
       "\n",
       "    .dataframe thead th {\n",
       "        text-align: right;\n",
       "    }\n",
       "</style>\n",
       "<table border=\"1\" class=\"dataframe\">\n",
       "  <thead>\n",
       "    <tr style=\"text-align: right;\">\n",
       "      <th></th>\n",
       "      <th>ID</th>\n",
       "      <th>fecha</th>\n",
       "      <th>total_km</th>\n",
       "      <th>consumo</th>\n",
       "      <th>tipo_motor</th>\n",
       "      <th>tasa</th>\n",
       "      <th>precio</th>\n",
       "    </tr>\n",
       "  </thead>\n",
       "  <tbody>\n",
       "    <tr>\n",
       "      <th>ID</th>\n",
       "      <td>1.000000</td>\n",
       "      <td>0.004029</td>\n",
       "      <td>0.001137</td>\n",
       "      <td>-0.004178</td>\n",
       "      <td>0.016248</td>\n",
       "      <td>0.009602</td>\n",
       "      <td>0.018487</td>\n",
       "    </tr>\n",
       "    <tr>\n",
       "      <th>fecha</th>\n",
       "      <td>0.004029</td>\n",
       "      <td>1.000000</td>\n",
       "      <td>-0.753325</td>\n",
       "      <td>0.061699</td>\n",
       "      <td>0.032041</td>\n",
       "      <td>-0.200159</td>\n",
       "      <td>0.498388</td>\n",
       "    </tr>\n",
       "    <tr>\n",
       "      <th>total_km</th>\n",
       "      <td>0.001137</td>\n",
       "      <td>-0.753325</td>\n",
       "      <td>1.000000</td>\n",
       "      <td>-0.097713</td>\n",
       "      <td>-0.018777</td>\n",
       "      <td>0.124939</td>\n",
       "      <td>-0.486950</td>\n",
       "    </tr>\n",
       "    <tr>\n",
       "      <th>consumo</th>\n",
       "      <td>-0.004178</td>\n",
       "      <td>0.061699</td>\n",
       "      <td>-0.097713</td>\n",
       "      <td>1.000000</td>\n",
       "      <td>0.314323</td>\n",
       "      <td>0.316232</td>\n",
       "      <td>0.263585</td>\n",
       "    </tr>\n",
       "    <tr>\n",
       "      <th>tipo_motor</th>\n",
       "      <td>0.016248</td>\n",
       "      <td>0.032041</td>\n",
       "      <td>-0.018777</td>\n",
       "      <td>0.314323</td>\n",
       "      <td>1.000000</td>\n",
       "      <td>0.456532</td>\n",
       "      <td>0.623995</td>\n",
       "    </tr>\n",
       "    <tr>\n",
       "      <th>tasa</th>\n",
       "      <td>0.009602</td>\n",
       "      <td>-0.200159</td>\n",
       "      <td>0.124939</td>\n",
       "      <td>0.316232</td>\n",
       "      <td>0.456532</td>\n",
       "      <td>1.000000</td>\n",
       "      <td>0.142273</td>\n",
       "    </tr>\n",
       "    <tr>\n",
       "      <th>precio</th>\n",
       "      <td>0.018487</td>\n",
       "      <td>0.498388</td>\n",
       "      <td>-0.486950</td>\n",
       "      <td>0.263585</td>\n",
       "      <td>0.623995</td>\n",
       "      <td>0.142273</td>\n",
       "      <td>1.000000</td>\n",
       "    </tr>\n",
       "  </tbody>\n",
       "</table>\n",
       "</div>"
      ],
      "text/plain": [
       "                  ID     fecha  total_km   consumo  tipo_motor      tasa  \\\n",
       "ID          1.000000  0.004029  0.001137 -0.004178    0.016248  0.009602   \n",
       "fecha       0.004029  1.000000 -0.753325  0.061699    0.032041 -0.200159   \n",
       "total_km    0.001137 -0.753325  1.000000 -0.097713   -0.018777  0.124939   \n",
       "consumo    -0.004178  0.061699 -0.097713  1.000000    0.314323  0.316232   \n",
       "tipo_motor  0.016248  0.032041 -0.018777  0.314323    1.000000  0.456532   \n",
       "tasa        0.009602 -0.200159  0.124939  0.316232    0.456532  1.000000   \n",
       "precio      0.018487  0.498388 -0.486950  0.263585    0.623995  0.142273   \n",
       "\n",
       "              precio  \n",
       "ID          0.018487  \n",
       "fecha       0.498388  \n",
       "total_km   -0.486950  \n",
       "consumo     0.263585  \n",
       "tipo_motor  0.623995  \n",
       "tasa        0.142273  \n",
       "precio      1.000000  "
      ]
     },
     "execution_count": 29,
     "metadata": {},
     "output_type": "execute_result"
    }
   ],
   "source": [
    "coches_dataset.select_dtypes(include = 'number').corr() ##correlación entre las variables númericas"
   ]
  },
  {
   "cell_type": "markdown",
   "id": "9bb8e8f9",
   "metadata": {},
   "source": [
    "# \n",
    "Se observa correlación principalmente con tipo de motor, con fecha de modelo, consumo y tasa\n",
    "\n",
    "Hasta aquí el análisis general se hizo con el dataset completo, uniendo los datos de train y test, de aquí en adelante, se realizan las transformaciones y normalizaciones por dataset. No obstante, con el total de km también existe un comportamiento relacionado según el plot realizado"
   ]
  },
  {
   "cell_type": "markdown",
   "id": "c9dba5e2",
   "metadata": {},
   "source": [
    "# Preprocesamiento\n",
    "Aquí, se inicia todo el preprocesamiento de los datos, aislamiento de variables, codificación de las variables de texto a número y normalización de las variables numéricas a escalas similares para facilitar su comparación"
   ]
  },
  {
   "cell_type": "markdown",
   "id": "0af83abc",
   "metadata": {},
   "source": [
    "## Aislar las variables de la variable target (separación de características y etiqueta)\n",
    "Aquí se separa cada dataset entre las variables características (independientes al precio) y la variable objetivo (precio), como la variable dependiente de aquellas características. Esto con el fin de entrenar el modelo para predecir la variable objetivo a partir de las características. El modelo aprenderá patrones y relaciones en los datos durante esta fase de entrenamiento."
   ]
  },
  {
   "cell_type": "code",
   "execution_count": 30,
   "id": "eaf91a37",
   "metadata": {},
   "outputs": [],
   "source": [
    "x_train = coches_train.drop('precio', axis=1)  # aislar las variables de la variable target en un dataframe: se dejan todas las columnas excepto 'precio'\n",
    "target_train = coches_train['precio']  # Se toma la columna 'precio' como la variable objetivo (target), esta será usada en el entrenamiento del modelo\n",
    "\n",
    "x_test = coches_test.drop('precio', axis=1)  # aislar las variables de la variable target en un dataframe: se dejan todas las columnas excepto 'precio'\n",
    "target_test = coches_test['precio']  # Se toma la columna 'precio' como la variable objetivo (target), estas será usada en la prueba del modelo\n",
    "\n",
    "x_train = x_train.drop('ID', axis=1)\n",
    "x_test = x_test.drop('ID', axis=1)\n",
    "                     \n"
   ]
  },
  {
   "cell_type": "code",
   "execution_count": 31,
   "id": "828577b8",
   "metadata": {},
   "outputs": [
    {
     "name": "stdout",
     "output_type": "stream",
     "text": [
      "<class 'pandas.core.frame.DataFrame'>\n",
      "RangeIndex: 4960 entries, 0 to 4959\n",
      "Data columns (total 9 columns):\n",
      " #   Column            Non-Null Count  Dtype  \n",
      "---  ------            --------------  -----  \n",
      " 0   marca             4960 non-null   object \n",
      " 1   modelo            4960 non-null   object \n",
      " 2   fecha             4960 non-null   int64  \n",
      " 3   tipo_cambio       4960 non-null   object \n",
      " 4   total_km          4960 non-null   int64  \n",
      " 5   tipo_combustible  4960 non-null   object \n",
      " 6   consumo           4960 non-null   float64\n",
      " 7   tipo_motor        4960 non-null   float64\n",
      " 8   tasa              4960 non-null   float64\n",
      "dtypes: float64(3), int64(2), object(4)\n",
      "memory usage: 348.9+ KB\n"
     ]
    }
   ],
   "source": [
    "# confirmar aislamiento y estado final de cada dataframe\n",
    "x_train.info()"
   ]
  },
  {
   "cell_type": "code",
   "execution_count": 32,
   "id": "4500d5c1",
   "metadata": {},
   "outputs": [
    {
     "name": "stdout",
     "output_type": "stream",
     "text": [
      "<class 'pandas.core.frame.DataFrame'>\n",
      "RangeIndex: 2672 entries, 0 to 2671\n",
      "Data columns (total 9 columns):\n",
      " #   Column            Non-Null Count  Dtype  \n",
      "---  ------            --------------  -----  \n",
      " 0   marca             2672 non-null   object \n",
      " 1   modelo            2672 non-null   object \n",
      " 2   fecha             2672 non-null   int64  \n",
      " 3   tipo_cambio       2672 non-null   object \n",
      " 4   total_km          2672 non-null   int64  \n",
      " 5   tipo_combustible  2672 non-null   object \n",
      " 6   consumo           2672 non-null   float64\n",
      " 7   tipo_motor        2672 non-null   float64\n",
      " 8   tasa              2672 non-null   float64\n",
      "dtypes: float64(3), int64(2), object(4)\n",
      "memory usage: 188.0+ KB\n"
     ]
    }
   ],
   "source": [
    "# confirmar aislamiento y estado final de cada dataframe\n",
    "x_test.info()"
   ]
  },
  {
   "cell_type": "markdown",
   "id": "6ffdc5b1",
   "metadata": {},
   "source": [
    "## Verificar consistencia entre datasets"
   ]
  },
  {
   "cell_type": "code",
   "execution_count": 33,
   "id": "25f7ffa8",
   "metadata": {},
   "outputs": [],
   "source": [
    "# Se verifica que los dataframes de train y test (sin variable target), tengan consistencia entre sí\n",
    "\n",
    "assert x_train.columns.tolist() == x_test.columns.tolist(), \"Las columnas de X_train y X_test no coinciden\"\n"
   ]
  },
  {
   "cell_type": "markdown",
   "id": "56ac6b84",
   "metadata": {},
   "source": [
    "## Transformación de columnas : codificación de variables de texto (categóricas) y normalización de variables numéricas\n",
    "\n",
    "1. Se utiliza la opción \"column transformer\" con el fin de hacer que durante el preprocesamiento se tranforme columna por columna de cada data set, incluso los nuevos datos, de texto a número o de número a escala numérica, según se defina. \n",
    "\n",
    "2. One-Hot Encoding: para la transformación de las variables de texto o categóricas, he utilizado la cual crea nuevas columnas, indicando la presencia (o ausencia) de cada categoría posible en la variable original\n",
    "\n",
    "3. Escalador MinMaxScaler: con el fin de normalizar las variables númericas en una escala de 0 a 1.\n",
    "\n",
    "4. Guardar el preprocesamiento en la variable definida \"preprocessor\" y posteriormente se aplica a cada dataframe de train y test. Cabe indicar que para el dataframe de test no se aplica ajuste (fit) para no generar fuga de datos\n",
    "\n",
    "5. Nuevos dataframe: posteriormente, los datos transformados son archivados en nuevos dataframes_processed\n",
    "\n",
    "6. Guardar el preprocessor en una \"librería\" = joblib\n",
    "\n",
    "Nota: cabe mencionar que esta fue la primera manera que encontré de llevar a cabo el ejercicio, después de varios errores. Luego, encontré que es posible construir un pipeline que resume el preprocesamiento y lo usé más adelante como un ejercicio adicional para mi proceso de aprendizaje"
   ]
  },
  {
   "cell_type": "code",
   "execution_count": 34,
   "id": "f4e14f2e",
   "metadata": {},
   "outputs": [],
   "source": [
    "# Instanciar el OneHotEncoder\n",
    "\n",
    "encoder = prep.OneHotEncoder(sparse_output = False, min_frequency = 0.01, handle_unknown = 'infrequent_if_exist')\n",
    "\n",
    "scaler = prep.MinMaxScaler()\n",
    "\n",
    "# Ajustar y transformar \n",
    "\n",
    "preprocessor = ColumnTransformer(\n",
    "    transformers=[\n",
    "        ('num', scaler, ['fecha', 'total_km', 'consumo', 'tipo_motor', 'tasa']),\n",
    "        ('cat', encoder, ['marca', 'modelo', 'tipo_cambio', 'tipo_combustible'])\n",
    "    ])\n",
    "\n",
    "# Transformar el conjunto de entrenamiento\n",
    "x_train_processed = preprocessor.fit_transform(x_train)\n",
    "\n",
    "\n",
    "# Transformar el conjunto de prueba\n",
    "x_test_processed = preprocessor.transform(x_test) ## no ajustar el dataset de prueba\n",
    "\n",
    "# Crear dataframes\n",
    "\n",
    "x_train_processed_df = pd.DataFrame(x_train_processed, columns=preprocessor.get_feature_names_out())\n",
    "x_test_processed_df = pd.DataFrame(x_test_processed, columns=preprocessor.get_feature_names_out())"
   ]
  },
  {
   "cell_type": "code",
   "execution_count": 35,
   "id": "d0f74ca1",
   "metadata": {},
   "outputs": [
    {
     "name": "stdout",
     "output_type": "stream",
     "text": [
      "<class 'pandas.core.frame.DataFrame'>\n",
      "RangeIndex: 4960 entries, 0 to 4959\n",
      "Data columns (total 65 columns):\n",
      " #   Column                                    Non-Null Count  Dtype  \n",
      "---  ------                                    --------------  -----  \n",
      " 0   num__fecha                                4960 non-null   float64\n",
      " 1   num__total_km                             4960 non-null   float64\n",
      " 2   num__consumo                              4960 non-null   float64\n",
      " 3   num__tipo_motor                           4960 non-null   float64\n",
      " 4   num__tasa                                 4960 non-null   float64\n",
      " 5   cat__marca_audi                           4960 non-null   float64\n",
      " 6   cat__marca_bmw                            4960 non-null   float64\n",
      " 7   cat__marca_ford                           4960 non-null   float64\n",
      " 8   cat__marca_hyundi                         4960 non-null   float64\n",
      " 9   cat__marca_merc                           4960 non-null   float64\n",
      " 10  cat__marca_skoda                          4960 non-null   float64\n",
      " 11  cat__marca_toyota                         4960 non-null   float64\n",
      " 12  cat__marca_vauxhall                       4960 non-null   float64\n",
      " 13  cat__marca_vw                             4960 non-null   float64\n",
      " 14  cat__modelo_ 6 Series                     4960 non-null   float64\n",
      " 15  cat__modelo_ 7 Series                     4960 non-null   float64\n",
      " 16  cat__modelo_ A7                           4960 non-null   float64\n",
      " 17  cat__modelo_ A8                           4960 non-null   float64\n",
      " 18  cat__modelo_ Amarok                       4960 non-null   float64\n",
      " 19  cat__modelo_ Arteon                       4960 non-null   float64\n",
      " 20  cat__modelo_ Avensis                      4960 non-null   float64\n",
      " 21  cat__modelo_ Beetle                       4960 non-null   float64\n",
      " 22  cat__modelo_ CC                           4960 non-null   float64\n",
      " 23  cat__modelo_ CLA Class                    4960 non-null   float64\n",
      " 24  cat__modelo_ CLS Class                    4960 non-null   float64\n",
      " 25  cat__modelo_ Caravelle                    4960 non-null   float64\n",
      " 26  cat__modelo_ Combo Life                   4960 non-null   float64\n",
      " 27  cat__modelo_ Edge                         4960 non-null   float64\n",
      " 28  cat__modelo_ GL Class                     4960 non-null   float64\n",
      " 29  cat__modelo_ GLS Class                    4960 non-null   float64\n",
      " 30  cat__modelo_ GTC                          4960 non-null   float64\n",
      " 31  cat__modelo_ Galaxy                       4960 non-null   float64\n",
      " 32  cat__modelo_ Grand C-MAX                  4960 non-null   float64\n",
      " 33  cat__modelo_ I40                          4960 non-null   float64\n",
      " 34  cat__modelo_ I800                         4960 non-null   float64\n",
      " 35  cat__modelo_ IX20                         4960 non-null   float64\n",
      " 36  cat__modelo_ IX35                         4960 non-null   float64\n",
      " 37  cat__modelo_ KA                           4960 non-null   float64\n",
      " 38  cat__modelo_ Kamiq                        4960 non-null   float64\n",
      " 39  cat__modelo_ M4                           4960 non-null   float64\n",
      " 40  cat__modelo_ Prius                        4960 non-null   float64\n",
      " 41  cat__modelo_ Puma                         4960 non-null   float64\n",
      " 42  cat__modelo_ Rapid                        4960 non-null   float64\n",
      " 43  cat__modelo_ S Class                      4960 non-null   float64\n",
      " 44  cat__modelo_ SLK                          4960 non-null   float64\n",
      " 45  cat__modelo_ Santa Fe                     4960 non-null   float64\n",
      " 46  cat__modelo_ Scala                        4960 non-null   float64\n",
      " 47  cat__modelo_ Scirocco                     4960 non-null   float64\n",
      " 48  cat__modelo_ Tiguan Allspace              4960 non-null   float64\n",
      " 49  cat__modelo_ V Class                      4960 non-null   float64\n",
      " 50  cat__modelo_ Verso                        4960 non-null   float64\n",
      " 51  cat__modelo_ X-CLASS                      4960 non-null   float64\n",
      " 52  cat__modelo_ X4                           4960 non-null   float64\n",
      " 53  cat__modelo_ X6                           4960 non-null   float64\n",
      " 54  cat__modelo_ Yeti                         4960 non-null   float64\n",
      " 55  cat__modelo_ Z4                           4960 non-null   float64\n",
      " 56  cat__modelo_infrequent_sklearn            4960 non-null   float64\n",
      " 57  cat__tipo_cambio_Automatic                4960 non-null   float64\n",
      " 58  cat__tipo_cambio_Manual                   4960 non-null   float64\n",
      " 59  cat__tipo_cambio_Semi-Auto                4960 non-null   float64\n",
      " 60  cat__tipo_cambio_infrequent_sklearn       4960 non-null   float64\n",
      " 61  cat__tipo_combustible_Diesel              4960 non-null   float64\n",
      " 62  cat__tipo_combustible_Hybrid              4960 non-null   float64\n",
      " 63  cat__tipo_combustible_Petrol              4960 non-null   float64\n",
      " 64  cat__tipo_combustible_infrequent_sklearn  4960 non-null   float64\n",
      "dtypes: float64(65)\n",
      "memory usage: 2.5 MB\n"
     ]
    }
   ],
   "source": [
    "# Verificación de dataframe de train transformado \n",
    "x_train_processed_df.info()"
   ]
  },
  {
   "cell_type": "markdown",
   "id": "7a866b4a",
   "metadata": {},
   "source": [
    "# Aprendizaje automático\n",
    "\n",
    "Hasta aquí he realizado el preprocesamiento de los datos, dando paso a la construcción del modelo de aprendizaje automático, he probado dos modelos para la predicción del precio del coche usado con ciertas características. "
   ]
  },
  {
   "cell_type": "code",
   "execution_count": 36,
   "id": "4443d864",
   "metadata": {},
   "outputs": [
    {
     "data": {
      "text/plain": [
       "['preprocessor.joblib']"
      ]
     },
     "execution_count": 36,
     "metadata": {},
     "output_type": "execute_result"
    }
   ],
   "source": [
    "#guardo el proceso de transformación de datos\n",
    "joblib.dump(preprocessor, 'preprocessor.joblib')"
   ]
  },
  {
   "cell_type": "code",
   "execution_count": 37,
   "id": "952cb49b",
   "metadata": {},
   "outputs": [
    {
     "name": "stdout",
     "output_type": "stream",
     "text": [
      "Requirement already satisfied: joblib in d:\\anaconda\\lib\\site-packages (1.2.0)\n",
      "Note: you may need to restart the kernel to use updated packages.\n"
     ]
    }
   ],
   "source": [
    "pip install joblib\n"
   ]
  },
  {
   "cell_type": "code",
   "execution_count": 38,
   "id": "04ddbc13",
   "metadata": {},
   "outputs": [],
   "source": [
    "# importo paquetes de librerías necesarios\n",
    "\n",
    "import joblib\n",
    "from sklearn.pipeline import Pipeline\n",
    "from sklearn.metrics import mean_absolute_error\n",
    "from sklearn.metrics import mean_absolute_percentage_error\n",
    "from sklearn.linear_model import LinearRegression\n"
   ]
  },
  {
   "cell_type": "code",
   "execution_count": 39,
   "id": "81558b50",
   "metadata": {},
   "outputs": [
    {
     "data": {
      "text/plain": [
       "((4960, 65), (2672, 65))"
      ]
     },
     "execution_count": 39,
     "metadata": {},
     "output_type": "execute_result"
    }
   ],
   "source": [
    "# confirmo el tamaño y consistencia de los dataframes de train y test a usar en los modelos de AA\n",
    "\n",
    "x_train_processed_df.shape, x_test_processed_df.shape"
   ]
  },
  {
   "cell_type": "markdown",
   "id": "2e5c4777",
   "metadata": {},
   "source": [
    "## Regresión lineal"
   ]
  },
  {
   "cell_type": "code",
   "execution_count": 40,
   "id": "8dfc7e65",
   "metadata": {},
   "outputs": [
    {
     "data": {
      "text/html": [
       "<style>#sk-container-id-1 {color: black;}#sk-container-id-1 pre{padding: 0;}#sk-container-id-1 div.sk-toggleable {background-color: white;}#sk-container-id-1 label.sk-toggleable__label {cursor: pointer;display: block;width: 100%;margin-bottom: 0;padding: 0.3em;box-sizing: border-box;text-align: center;}#sk-container-id-1 label.sk-toggleable__label-arrow:before {content: \"▸\";float: left;margin-right: 0.25em;color: #696969;}#sk-container-id-1 label.sk-toggleable__label-arrow:hover:before {color: black;}#sk-container-id-1 div.sk-estimator:hover label.sk-toggleable__label-arrow:before {color: black;}#sk-container-id-1 div.sk-toggleable__content {max-height: 0;max-width: 0;overflow: hidden;text-align: left;background-color: #f0f8ff;}#sk-container-id-1 div.sk-toggleable__content pre {margin: 0.2em;color: black;border-radius: 0.25em;background-color: #f0f8ff;}#sk-container-id-1 input.sk-toggleable__control:checked~div.sk-toggleable__content {max-height: 200px;max-width: 100%;overflow: auto;}#sk-container-id-1 input.sk-toggleable__control:checked~label.sk-toggleable__label-arrow:before {content: \"▾\";}#sk-container-id-1 div.sk-estimator input.sk-toggleable__control:checked~label.sk-toggleable__label {background-color: #d4ebff;}#sk-container-id-1 div.sk-label input.sk-toggleable__control:checked~label.sk-toggleable__label {background-color: #d4ebff;}#sk-container-id-1 input.sk-hidden--visually {border: 0;clip: rect(1px 1px 1px 1px);clip: rect(1px, 1px, 1px, 1px);height: 1px;margin: -1px;overflow: hidden;padding: 0;position: absolute;width: 1px;}#sk-container-id-1 div.sk-estimator {font-family: monospace;background-color: #f0f8ff;border: 1px dotted black;border-radius: 0.25em;box-sizing: border-box;margin-bottom: 0.5em;}#sk-container-id-1 div.sk-estimator:hover {background-color: #d4ebff;}#sk-container-id-1 div.sk-parallel-item::after {content: \"\";width: 100%;border-bottom: 1px solid gray;flex-grow: 1;}#sk-container-id-1 div.sk-label:hover label.sk-toggleable__label {background-color: #d4ebff;}#sk-container-id-1 div.sk-serial::before {content: \"\";position: absolute;border-left: 1px solid gray;box-sizing: border-box;top: 0;bottom: 0;left: 50%;z-index: 0;}#sk-container-id-1 div.sk-serial {display: flex;flex-direction: column;align-items: center;background-color: white;padding-right: 0.2em;padding-left: 0.2em;position: relative;}#sk-container-id-1 div.sk-item {position: relative;z-index: 1;}#sk-container-id-1 div.sk-parallel {display: flex;align-items: stretch;justify-content: center;background-color: white;position: relative;}#sk-container-id-1 div.sk-item::before, #sk-container-id-1 div.sk-parallel-item::before {content: \"\";position: absolute;border-left: 1px solid gray;box-sizing: border-box;top: 0;bottom: 0;left: 50%;z-index: -1;}#sk-container-id-1 div.sk-parallel-item {display: flex;flex-direction: column;z-index: 1;position: relative;background-color: white;}#sk-container-id-1 div.sk-parallel-item:first-child::after {align-self: flex-end;width: 50%;}#sk-container-id-1 div.sk-parallel-item:last-child::after {align-self: flex-start;width: 50%;}#sk-container-id-1 div.sk-parallel-item:only-child::after {width: 0;}#sk-container-id-1 div.sk-dashed-wrapped {border: 1px dashed gray;margin: 0 0.4em 0.5em 0.4em;box-sizing: border-box;padding-bottom: 0.4em;background-color: white;}#sk-container-id-1 div.sk-label label {font-family: monospace;font-weight: bold;display: inline-block;line-height: 1.2em;}#sk-container-id-1 div.sk-label-container {text-align: center;}#sk-container-id-1 div.sk-container {/* jupyter's `normalize.less` sets `[hidden] { display: none; }` but bootstrap.min.css set `[hidden] { display: none !important; }` so we also need the `!important` here to be able to override the default hidden behavior on the sphinx rendered scikit-learn.org. See: https://github.com/scikit-learn/scikit-learn/issues/21755 */display: inline-block !important;position: relative;}#sk-container-id-1 div.sk-text-repr-fallback {display: none;}</style><div id=\"sk-container-id-1\" class=\"sk-top-container\"><div class=\"sk-text-repr-fallback\"><pre>LinearRegression()</pre><b>In a Jupyter environment, please rerun this cell to show the HTML representation or trust the notebook. <br />On GitHub, the HTML representation is unable to render, please try loading this page with nbviewer.org.</b></div><div class=\"sk-container\" hidden><div class=\"sk-item\"><div class=\"sk-estimator sk-toggleable\"><input class=\"sk-toggleable__control sk-hidden--visually\" id=\"sk-estimator-id-1\" type=\"checkbox\" checked><label for=\"sk-estimator-id-1\" class=\"sk-toggleable__label sk-toggleable__label-arrow\">LinearRegression</label><div class=\"sk-toggleable__content\"><pre>LinearRegression()</pre></div></div></div></div></div>"
      ],
      "text/plain": [
       "LinearRegression()"
      ]
     },
     "execution_count": 40,
     "metadata": {},
     "output_type": "execute_result"
    }
   ],
   "source": [
    "# Creo el objeto del modelo con parámetros por defecto\n",
    "modelo_lr = LinearRegression()\n",
    "\n",
    "# Entreno el modelo con el conjunto de train y su target aislada en pasos previos (preprocesamiento [IN] 20)\n",
    "modelo_lr.fit(x_train_processed_df, target_train)"
   ]
  },
  {
   "cell_type": "code",
   "execution_count": 41,
   "id": "293adaaf",
   "metadata": {},
   "outputs": [
    {
     "name": "stdout",
     "output_type": "stream",
     "text": [
      "Término independiente:  3.41750344672409e+16\n"
     ]
    }
   ],
   "source": [
    "print('Término independiente: ', modelo_lr.intercept_)\n",
    "\n",
    "## determina dónde la línea de regresión corta el eje vertical (eje Y) cuando todas las variables independientes son cero.\n",
    "\n",
    "##representa el valor predicho de la variable dependiente cuando todas las variables independientes son nulas.\n"
   ]
  },
  {
   "cell_type": "code",
   "execution_count": 42,
   "id": "442f6c2c",
   "metadata": {},
   "outputs": [
    {
     "name": "stdout",
     "output_type": "stream",
     "text": [
      "Variable num__fecha, coeficiente: 38172.571\n",
      "Variable num__total_km, coeficiente: -31126.177\n",
      "Variable num__consumo, coeficiente: 19612.258\n",
      "Variable num__tipo_motor, coeficiente: 55888.328\n",
      "Variable num__tasa, coeficiente: -15899.175\n",
      "Variable cat__marca_audi, coeficiente: -5240013560971214.000\n",
      "Variable cat__marca_bmw, coeficiente: -5240013560972669.000\n",
      "Variable cat__marca_ford, coeficiente: -5240013560993604.000\n",
      "Variable cat__marca_hyundi, coeficiente: -5240013560979375.000\n",
      "Variable cat__marca_merc, coeficiente: -5240013560976377.000\n",
      "Variable cat__marca_skoda, coeficiente: -5240013560990624.000\n",
      "Variable cat__marca_toyota, coeficiente: -5240013560988963.000\n",
      "Variable cat__marca_vauxhall, coeficiente: -5240013560992179.000\n",
      "Variable cat__marca_vw, coeficiente: -5240013560990458.000\n",
      "Variable cat__modelo_ 6 Series, coeficiente: -771584841180934.875\n",
      "Variable cat__modelo_ 7 Series, coeficiente: -771584841173426.750\n",
      "Variable cat__modelo_ A7, coeficiente: -771584841178890.000\n",
      "Variable cat__modelo_ A8, coeficiente: -771584841175940.500\n",
      "Variable cat__modelo_ Amarok, coeficiente: -771584841158853.625\n",
      "Variable cat__modelo_ Arteon, coeficiente: -771584841160355.250\n",
      "Variable cat__modelo_ Avensis, coeficiente: -771584841164692.250\n",
      "Variable cat__modelo_ Beetle, coeficiente: -771584841161065.500\n",
      "Variable cat__modelo_ CC, coeficiente: -771584841163683.000\n",
      "Variable cat__modelo_ CLA Class, coeficiente: -771584841174555.750\n",
      "Variable cat__modelo_ CLS Class, coeficiente: -771584841173108.625\n",
      "Variable cat__modelo_ Caravelle, coeficiente: -771584841142467.000\n",
      "Variable cat__modelo_ Combo Life, coeficiente: -771584841162786.000\n",
      "Variable cat__modelo_ Edge, coeficiente: -771584841155310.250\n",
      "Variable cat__modelo_ GL Class, coeficiente: -771584841172795.500\n",
      "Variable cat__modelo_ GLS Class, coeficiente: -771584841159133.625\n",
      "Variable cat__modelo_ GTC, coeficiente: -771584841163368.625\n",
      "Variable cat__modelo_ Galaxy, coeficiente: -771584841156696.500\n",
      "Variable cat__modelo_ Grand C-MAX, coeficiente: -771584841161260.000\n",
      "Variable cat__modelo_ I40, coeficiente: -771584841175608.000\n",
      "Variable cat__modelo_ I800, coeficiente: -771584841179362.375\n",
      "Variable cat__modelo_ IX20, coeficiente: -771584841178353.000\n",
      "Variable cat__modelo_ IX35, coeficiente: -771584841170568.500\n",
      "Variable cat__modelo_ KA, coeficiente: -771584841161916.125\n",
      "Variable cat__modelo_ Kamiq, coeficiente: -771584841162617.000\n",
      "Variable cat__modelo_ M4, coeficiente: -771584841169582.750\n",
      "Variable cat__modelo_ Prius, coeficiente: -771584841162990.125\n",
      "Variable cat__modelo_ Puma, coeficiente: -771584841153805.750\n",
      "Variable cat__modelo_ Rapid, coeficiente: -771584841165431.375\n",
      "Variable cat__modelo_ S Class, coeficiente: -771584841159810.750\n",
      "Variable cat__modelo_ SLK, coeficiente: -771584841171645.125\n",
      "Variable cat__modelo_ Santa Fe, coeficiente: -771584841169620.000\n",
      "Variable cat__modelo_ Scala, coeficiente: -771584841164546.875\n",
      "Variable cat__modelo_ Scirocco, coeficiente: -771584841163976.000\n",
      "Variable cat__modelo_ Tiguan Allspace, coeficiente: -771584841157960.625\n",
      "Variable cat__modelo_ V Class, coeficiente: -771584841165905.625\n",
      "Variable cat__modelo_ Verso, coeficiente: -771584841165840.875\n",
      "Variable cat__modelo_ X-CLASS, coeficiente: -771584841171114.000\n",
      "Variable cat__modelo_ X4, coeficiente: -771584841173114.875\n",
      "Variable cat__modelo_ X6, coeficiente: -771584841165146.875\n",
      "Variable cat__modelo_ Yeti, coeficiente: -771584841162113.250\n",
      "Variable cat__modelo_ Z4, coeficiente: -771584841176390.875\n",
      "Variable cat__modelo_infrequent_sklearn, coeficiente: -771584841159969.000\n",
      "Variable cat__tipo_cambio_Automatic, coeficiente: -19327747034153944.000\n",
      "Variable cat__tipo_cambio_Manual, coeficiente: -19327747034156120.000\n",
      "Variable cat__tipo_cambio_Semi-Auto, coeficiente: -19327747034153404.000\n",
      "Variable cat__tipo_cambio_infrequent_sklearn, coeficiente: -19327747034153968.000\n",
      "Variable cat__tipo_combustible_Diesel, coeficiente: -8835689030959462.000\n",
      "Variable cat__tipo_combustible_Hybrid, coeficiente: -8835689030958228.000\n",
      "Variable cat__tipo_combustible_Petrol, coeficiente: -8835689030957442.000\n",
      "Variable cat__tipo_combustible_infrequent_sklearn, coeficiente: -8835689030960144.000\n"
     ]
    }
   ],
   "source": [
    "for name, value in zip(modelo_lr.feature_names_in_, modelo_lr.coef_):\n",
    "    print('Variable %s, coeficiente: %.3f' % (name, value))"
   ]
  },
  {
   "cell_type": "markdown",
   "id": "a08c0eaa",
   "metadata": {},
   "source": [
    "Cada coeficiente nos indica cómo varía el target al aumentar cada una de las variables de entrada, los valores muy alto y muy bajo se pueden deber a sobreajuste, a una deficiente escalarización o la presencia de aquellos outliers de precio de coches de lujo"
   ]
  },
  {
   "cell_type": "code",
   "execution_count": 43,
   "id": "e96d897a",
   "metadata": {},
   "outputs": [
    {
     "name": "stdout",
     "output_type": "stream",
     "text": [
      "R2 en training:  0.8073783746292764\n"
     ]
    }
   ],
   "source": [
    "# Se calula el R en los datos de entrenamiento\n",
    "\n",
    "print('R2 en training: ', modelo_lr.score(x_train_processed_df, target_train))"
   ]
  },
  {
   "cell_type": "code",
   "execution_count": 44,
   "id": "0407bac8",
   "metadata": {},
   "outputs": [
    {
     "name": "stdout",
     "output_type": "stream",
     "text": [
      "R2 en test:  0.7919985144342766\n"
     ]
    }
   ],
   "source": [
    "#Se calcula el R de los datos de test\n",
    "\n",
    "print('R2 en test: ', modelo_lr.score(x_test_processed_df, target_test))"
   ]
  },
  {
   "cell_type": "markdown",
   "id": "64a91716",
   "metadata": {},
   "source": [
    "### Predicciones del modelo de Regresión Lineal con el dataset de test"
   ]
  },
  {
   "cell_type": "code",
   "execution_count": 45,
   "id": "3f8bbdb5",
   "metadata": {},
   "outputs": [
    {
     "name": "stdout",
     "output_type": "stream",
     "text": [
      "Primeras 5 predicciones:  [46384. 26532. 50232. 13776. 52944.]\n",
      "Valores reales:  [38000 23495 59999 16713 46000]\n"
     ]
    }
   ],
   "source": [
    "# Predicciones sobre el conjunto de test\n",
    "\n",
    "predicciones_precio_test = modelo_lr.predict(x_test_processed_df)\n",
    "\n",
    "print('Primeras 5 predicciones: ', predicciones_precio_test[:5])\n",
    "print('Valores reales: ', target_test.values[:5])"
   ]
  },
  {
   "cell_type": "markdown",
   "id": "d9ac96b2",
   "metadata": {},
   "source": [
    "### Cuantificar diferencias "
   ]
  },
  {
   "cell_type": "code",
   "execution_count": 46,
   "id": "199f9f50",
   "metadata": {},
   "outputs": [
    {
     "name": "stdout",
     "output_type": "stream",
     "text": [
      "MAE en test: 4599.387\n",
      "MAPE en test: 0.310\n"
     ]
    }
   ],
   "source": [
    "# Calculamos el MAE y el MAPE en el conjunto de test\n",
    "mae_test = mean_absolute_error(target_test, predicciones_precio_test)\n",
    "mape_test = mean_absolute_percentage_error(target_test, predicciones_precio_test)\n",
    "\n",
    "print('MAE en test: %.3f' % mae_test)\n",
    "print('MAPE en test: %.3f' % mape_test)"
   ]
  },
  {
   "cell_type": "markdown",
   "id": "fc80176d",
   "metadata": {},
   "source": [
    "El MAE nos indica un valor de 4669 euros (valor absoluto) entre las predicciones del modelo y el valor real, con un Porcentaje Promedio de Error MAPE de 3%"
   ]
  },
  {
   "cell_type": "code",
   "execution_count": 47,
   "id": "f4626b66",
   "metadata": {},
   "outputs": [
    {
     "data": {
      "image/png": "[encoded data removed]",
      "text/plain": [
       "<Figure size 640x480 with 1 Axes>"
      ]
     },
     "metadata": {},
     "output_type": "display_data"
    }
   ],
   "source": [
    "import matplotlib.pyplot as plt\n",
    "%matplotlib inline\n",
    "\n",
    "residuals = target_test - predicciones_precio_test \n",
    "\n",
    "plt.scatter(target_test, residuals)\n",
    "plt.hlines(0, xmin=40, xmax=320, linestyles='--', color='k')\n",
    "plt.xlabel('Valores reales')\n",
    "plt.ylabel('Residuo')\n",
    "plt.show()"
   ]
  },
  {
   "cell_type": "markdown",
   "id": "6f45e7f7",
   "metadata": {},
   "source": [
    "Se observan que aunque los residuos se acercan al cero (deseable), se conservan un pequeño patrón (no deseable)"
   ]
  },
  {
   "cell_type": "markdown",
   "id": "6ce9d86e",
   "metadata": {},
   "source": [
    "### Guardar modelo LR"
   ]
  },
  {
   "cell_type": "code",
   "execution_count": 48,
   "id": "36a83106",
   "metadata": {},
   "outputs": [
    {
     "data": {
      "text/plain": [
       "['modelo_regresion_lineal.pkl']"
      ]
     },
     "execution_count": 48,
     "metadata": {},
     "output_type": "execute_result"
    }
   ],
   "source": [
    "# Guardo modelo para luego usarlo en la predicción del precio con nuevos datos\n",
    "\n",
    "joblib.dump(modelo_lr, 'modelo_regresion_lineal.pkl')"
   ]
  },
  {
   "cell_type": "markdown",
   "id": "022d93f6",
   "metadata": {},
   "source": [
    "### Resultados de la regresión lineal: \n",
    "    \n",
    "Con este modelo he obtenido un R en el test de 0.79, un MAE en test de 4669 euros y un  MAPE en test: 0.317.\n",
    "\n",
    "Nota: Por cuestiones de tiempo (pues terminar este 1er ejercicio me ha llevado bastante tiempo) no he probado con más modelos, pero me gustaría en su momento profundizar. \n"
   ]
  },
  {
   "cell_type": "markdown",
   "id": "d6925a67",
   "metadata": {},
   "source": [
    "### Predicción del precio con el modelo de Regresión Lineal"
   ]
  },
  {
   "cell_type": "code",
   "execution_count": 49,
   "id": "f6013a95",
   "metadata": {},
   "outputs": [],
   "source": [
    "#Cargo modelo\n",
    "\n",
    "modelo_regresion_lineal = joblib.load('modelo_regresion_lineal.pkl')\n",
    "\n",
    "#Pipeline de preprocesamiento (onehot encoder de variables categóricas a número y minmaxscaler para normalizar variables númericas)\n",
    "\n",
    "preprocessing_pipeline = Pipeline(steps=[('preprocessor', preprocessor)])\n"
   ]
  },
  {
   "cell_type": "markdown",
   "id": "cf13d529",
   "metadata": {},
   "source": [
    "### Data procesada para resolver la pregunta"
   ]
  },
  {
   "cell_type": "code",
   "execution_count": 50,
   "id": "a4c87687",
   "metadata": {},
   "outputs": [
    {
     "data": {
      "text/html": [
       "<div>\n",
       "<style scoped>\n",
       "    .dataframe tbody tr th:only-of-type {\n",
       "        vertical-align: middle;\n",
       "    }\n",
       "\n",
       "    .dataframe tbody tr th {\n",
       "        vertical-align: top;\n",
       "    }\n",
       "\n",
       "    .dataframe thead th {\n",
       "        text-align: right;\n",
       "    }\n",
       "</style>\n",
       "<table border=\"1\" class=\"dataframe\">\n",
       "  <thead>\n",
       "    <tr style=\"text-align: right;\">\n",
       "      <th></th>\n",
       "      <th>marca</th>\n",
       "      <th>modelo</th>\n",
       "      <th>fecha</th>\n",
       "      <th>total_km</th>\n",
       "      <th>tipo_cambio</th>\n",
       "      <th>tipo_combustible</th>\n",
       "      <th>consumo</th>\n",
       "      <th>tipo_motor</th>\n",
       "      <th>tasa</th>\n",
       "    </tr>\n",
       "  </thead>\n",
       "  <tbody>\n",
       "    <tr>\n",
       "      <th>0</th>\n",
       "      <td>audi</td>\n",
       "      <td>A7</td>\n",
       "      <td>2020</td>\n",
       "      <td>5000</td>\n",
       "      <td>Automatic</td>\n",
       "      <td>hybrid</td>\n",
       "      <td>5.5</td>\n",
       "      <td>4.0</td>\n",
       "      <td>200</td>\n",
       "    </tr>\n",
       "  </tbody>\n",
       "</table>\n",
       "</div>"
      ],
      "text/plain": [
       "  marca modelo  fecha  total_km tipo_cambio tipo_combustible  consumo  \\\n",
       "0  audi     A7   2020      5000   Automatic           hybrid      5.5   \n",
       "\n",
       "  tipo_motor  tasa  \n",
       "0        4.0   200  "
      ]
     },
     "execution_count": 50,
     "metadata": {},
     "output_type": "execute_result"
    }
   ],
   "source": [
    "# Creo un dataframe con los nuevos datos que corresponden a las características con las que quiero predecir el precio de venta del coche usado \n",
    "new_data= pd.DataFrame({'marca':['audi'],\n",
    "                        'modelo': ['A7'],\n",
    "                        'fecha':[2020],\n",
    "                        'total_km': [5000],\n",
    "                        'tipo_cambio': ['Automatic'],\n",
    "                        'tipo_combustible': ['hybrid'],\n",
    "                        'consumo': [5.5],\n",
    "                        'tipo_motor': ['4.0'],\n",
    "                        'tasa': [200]})\n",
    "\n",
    "new_data"
   ]
  },
  {
   "cell_type": "code",
   "execution_count": 66,
   "id": "b9b20ef9",
   "metadata": {},
   "outputs": [],
   "source": [
    "# aplico el pipe line de preprocesamiento al nuevo dataframe con el fin de aplicar el onehotencoder y minmaxscaler\n",
    "\n",
    "new_data_processed = preprocessing_pipeline.transform(new_data)"
   ]
  },
  {
   "cell_type": "markdown",
   "id": "edbe9e94",
   "metadata": {},
   "source": [
    "### Predicción de precio de coche audi A7 por Regresión Lineal (Rta pregunta 5)"
   ]
  },
  {
   "cell_type": "code",
   "execution_count": 52,
   "id": "144b2167",
   "metadata": {},
   "outputs": [
    {
     "name": "stderr",
     "output_type": "stream",
     "text": [
      "D:\\ANACONDA\\Lib\\site-packages\\sklearn\\base.py:464: UserWarning: X does not have valid feature names, but LinearRegression was fitted with feature names\n",
      "  warnings.warn(\n"
     ]
    },
    {
     "data": {
      "text/plain": [
       "array([62760.])"
      ]
     },
     "execution_count": 52,
     "metadata": {},
     "output_type": "execute_result"
    }
   ],
   "source": [
    "# Realizo la predicción del precio aplicando el modelo a los nuevos datos\n",
    "new_price_prediction_lr = modelo_regresion_lineal.predict(new_data_processed)\n",
    "new_price_prediction_lr"
   ]
  },
  {
   "cell_type": "markdown",
   "id": "14869228",
   "metadata": {},
   "source": [
    "He obtenido que mi amigo que quiere vender un audi A7 de 2020 con 5000 km, cambio automático, combustible híbrido, consumo de 5.5 l/100km y motor 4.0. La tasa de circulación es de 200€, debe venderlo en 62760 euros. "
   ]
  },
  {
   "cell_type": "markdown",
   "id": "2771f632",
   "metadata": {},
   "source": [
    "### Aplicación del modelo de regresión lineal probando con la creación de un Pipeline que contiene los pasos de preprocesamiento y el modelo \n",
    "\n",
    "Como mencioné anteriormente, en el desarrollo del ejercicio comprendí que existe la opción de incorporar los pasos de preprocesamiento y el modelo en un pipeline, simplificando el flujo de trabajo. Aquí lo he probado, obteniendo el mismo resultado de predicción del precio"
   ]
  },
  {
   "cell_type": "code",
   "execution_count": 53,
   "id": "af956ccc",
   "metadata": {},
   "outputs": [
    {
     "data": {
      "text/html": [
       "<style>#sk-container-id-2 {color: black;}#sk-container-id-2 pre{padding: 0;}#sk-container-id-2 div.sk-toggleable {background-color: white;}#sk-container-id-2 label.sk-toggleable__label {cursor: pointer;display: block;width: 100%;margin-bottom: 0;padding: 0.3em;box-sizing: border-box;text-align: center;}#sk-container-id-2 label.sk-toggleable__label-arrow:before {content: \"▸\";float: left;margin-right: 0.25em;color: #696969;}#sk-container-id-2 label.sk-toggleable__label-arrow:hover:before {color: black;}#sk-container-id-2 div.sk-estimator:hover label.sk-toggleable__label-arrow:before {color: black;}#sk-container-id-2 div.sk-toggleable__content {max-height: 0;max-width: 0;overflow: hidden;text-align: left;background-color: #f0f8ff;}#sk-container-id-2 div.sk-toggleable__content pre {margin: 0.2em;color: black;border-radius: 0.25em;background-color: #f0f8ff;}#sk-container-id-2 input.sk-toggleable__control:checked~div.sk-toggleable__content {max-height: 200px;max-width: 100%;overflow: auto;}#sk-container-id-2 input.sk-toggleable__control:checked~label.sk-toggleable__label-arrow:before {content: \"▾\";}#sk-container-id-2 div.sk-estimator input.sk-toggleable__control:checked~label.sk-toggleable__label {background-color: #d4ebff;}#sk-container-id-2 div.sk-label input.sk-toggleable__control:checked~label.sk-toggleable__label {background-color: #d4ebff;}#sk-container-id-2 input.sk-hidden--visually {border: 0;clip: rect(1px 1px 1px 1px);clip: rect(1px, 1px, 1px, 1px);height: 1px;margin: -1px;overflow: hidden;padding: 0;position: absolute;width: 1px;}#sk-container-id-2 div.sk-estimator {font-family: monospace;background-color: #f0f8ff;border: 1px dotted black;border-radius: 0.25em;box-sizing: border-box;margin-bottom: 0.5em;}#sk-container-id-2 div.sk-estimator:hover {background-color: #d4ebff;}#sk-container-id-2 div.sk-parallel-item::after {content: \"\";width: 100%;border-bottom: 1px solid gray;flex-grow: 1;}#sk-container-id-2 div.sk-label:hover label.sk-toggleable__label {background-color: #d4ebff;}#sk-container-id-2 div.sk-serial::before {content: \"\";position: absolute;border-left: 1px solid gray;box-sizing: border-box;top: 0;bottom: 0;left: 50%;z-index: 0;}#sk-container-id-2 div.sk-serial {display: flex;flex-direction: column;align-items: center;background-color: white;padding-right: 0.2em;padding-left: 0.2em;position: relative;}#sk-container-id-2 div.sk-item {position: relative;z-index: 1;}#sk-container-id-2 div.sk-parallel {display: flex;align-items: stretch;justify-content: center;background-color: white;position: relative;}#sk-container-id-2 div.sk-item::before, #sk-container-id-2 div.sk-parallel-item::before {content: \"\";position: absolute;border-left: 1px solid gray;box-sizing: border-box;top: 0;bottom: 0;left: 50%;z-index: -1;}#sk-container-id-2 div.sk-parallel-item {display: flex;flex-direction: column;z-index: 1;position: relative;background-color: white;}#sk-container-id-2 div.sk-parallel-item:first-child::after {align-self: flex-end;width: 50%;}#sk-container-id-2 div.sk-parallel-item:last-child::after {align-self: flex-start;width: 50%;}#sk-container-id-2 div.sk-parallel-item:only-child::after {width: 0;}#sk-container-id-2 div.sk-dashed-wrapped {border: 1px dashed gray;margin: 0 0.4em 0.5em 0.4em;box-sizing: border-box;padding-bottom: 0.4em;background-color: white;}#sk-container-id-2 div.sk-label label {font-family: monospace;font-weight: bold;display: inline-block;line-height: 1.2em;}#sk-container-id-2 div.sk-label-container {text-align: center;}#sk-container-id-2 div.sk-container {/* jupyter's `normalize.less` sets `[hidden] { display: none; }` but bootstrap.min.css set `[hidden] { display: none !important; }` so we also need the `!important` here to be able to override the default hidden behavior on the sphinx rendered scikit-learn.org. See: https://github.com/scikit-learn/scikit-learn/issues/21755 */display: inline-block !important;position: relative;}#sk-container-id-2 div.sk-text-repr-fallback {display: none;}</style><div id=\"sk-container-id-2\" class=\"sk-top-container\"><div class=\"sk-text-repr-fallback\"><pre>Pipeline(steps=[(&#x27;preprocessor&#x27;,\n",
       "                 ColumnTransformer(transformers=[(&#x27;num&#x27;, MinMaxScaler(),\n",
       "                                                  [&#x27;fecha&#x27;, &#x27;total_km&#x27;,\n",
       "                                                   &#x27;consumo&#x27;, &#x27;tipo_motor&#x27;,\n",
       "                                                   &#x27;tasa&#x27;]),\n",
       "                                                 (&#x27;cat&#x27;,\n",
       "                                                  OneHotEncoder(handle_unknown=&#x27;infrequent_if_exist&#x27;,\n",
       "                                                                min_frequency=0.01,\n",
       "                                                                sparse_output=False),\n",
       "                                                  [&#x27;marca&#x27;, &#x27;modelo&#x27;,\n",
       "                                                   &#x27;tipo_cambio&#x27;,\n",
       "                                                   &#x27;tipo_combustible&#x27;])])),\n",
       "                (&#x27;modelo_regresion_lineal&#x27;, LinearRegression())])</pre><b>In a Jupyter environment, please rerun this cell to show the HTML representation or trust the notebook. <br />On GitHub, the HTML representation is unable to render, please try loading this page with nbviewer.org.</b></div><div class=\"sk-container\" hidden><div class=\"sk-item sk-dashed-wrapped\"><div class=\"sk-label-container\"><div class=\"sk-label sk-toggleable\"><input class=\"sk-toggleable__control sk-hidden--visually\" id=\"sk-estimator-id-2\" type=\"checkbox\" ><label for=\"sk-estimator-id-2\" class=\"sk-toggleable__label sk-toggleable__label-arrow\">Pipeline</label><div class=\"sk-toggleable__content\"><pre>Pipeline(steps=[(&#x27;preprocessor&#x27;,\n",
       "                 ColumnTransformer(transformers=[(&#x27;num&#x27;, MinMaxScaler(),\n",
       "                                                  [&#x27;fecha&#x27;, &#x27;total_km&#x27;,\n",
       "                                                   &#x27;consumo&#x27;, &#x27;tipo_motor&#x27;,\n",
       "                                                   &#x27;tasa&#x27;]),\n",
       "                                                 (&#x27;cat&#x27;,\n",
       "                                                  OneHotEncoder(handle_unknown=&#x27;infrequent_if_exist&#x27;,\n",
       "                                                                min_frequency=0.01,\n",
       "                                                                sparse_output=False),\n",
       "                                                  [&#x27;marca&#x27;, &#x27;modelo&#x27;,\n",
       "                                                   &#x27;tipo_cambio&#x27;,\n",
       "                                                   &#x27;tipo_combustible&#x27;])])),\n",
       "                (&#x27;modelo_regresion_lineal&#x27;, LinearRegression())])</pre></div></div></div><div class=\"sk-serial\"><div class=\"sk-item sk-dashed-wrapped\"><div class=\"sk-label-container\"><div class=\"sk-label sk-toggleable\"><input class=\"sk-toggleable__control sk-hidden--visually\" id=\"sk-estimator-id-3\" type=\"checkbox\" ><label for=\"sk-estimator-id-3\" class=\"sk-toggleable__label sk-toggleable__label-arrow\">preprocessor: ColumnTransformer</label><div class=\"sk-toggleable__content\"><pre>ColumnTransformer(transformers=[(&#x27;num&#x27;, MinMaxScaler(),\n",
       "                                 [&#x27;fecha&#x27;, &#x27;total_km&#x27;, &#x27;consumo&#x27;, &#x27;tipo_motor&#x27;,\n",
       "                                  &#x27;tasa&#x27;]),\n",
       "                                (&#x27;cat&#x27;,\n",
       "                                 OneHotEncoder(handle_unknown=&#x27;infrequent_if_exist&#x27;,\n",
       "                                               min_frequency=0.01,\n",
       "                                               sparse_output=False),\n",
       "                                 [&#x27;marca&#x27;, &#x27;modelo&#x27;, &#x27;tipo_cambio&#x27;,\n",
       "                                  &#x27;tipo_combustible&#x27;])])</pre></div></div></div><div class=\"sk-parallel\"><div class=\"sk-parallel-item\"><div class=\"sk-item\"><div class=\"sk-label-container\"><div class=\"sk-label sk-toggleable\"><input class=\"sk-toggleable__control sk-hidden--visually\" id=\"sk-estimator-id-4\" type=\"checkbox\" ><label for=\"sk-estimator-id-4\" class=\"sk-toggleable__label sk-toggleable__label-arrow\">num</label><div class=\"sk-toggleable__content\"><pre>[&#x27;fecha&#x27;, &#x27;total_km&#x27;, &#x27;consumo&#x27;, &#x27;tipo_motor&#x27;, &#x27;tasa&#x27;]</pre></div></div></div><div class=\"sk-serial\"><div class=\"sk-item\"><div class=\"sk-estimator sk-toggleable\"><input class=\"sk-toggleable__control sk-hidden--visually\" id=\"sk-estimator-id-5\" type=\"checkbox\" ><label for=\"sk-estimator-id-5\" class=\"sk-toggleable__label sk-toggleable__label-arrow\">MinMaxScaler</label><div class=\"sk-toggleable__content\"><pre>MinMaxScaler()</pre></div></div></div></div></div></div><div class=\"sk-parallel-item\"><div class=\"sk-item\"><div class=\"sk-label-container\"><div class=\"sk-label sk-toggleable\"><input class=\"sk-toggleable__control sk-hidden--visually\" id=\"sk-estimator-id-6\" type=\"checkbox\" ><label for=\"sk-estimator-id-6\" class=\"sk-toggleable__label sk-toggleable__label-arrow\">cat</label><div class=\"sk-toggleable__content\"><pre>[&#x27;marca&#x27;, &#x27;modelo&#x27;, &#x27;tipo_cambio&#x27;, &#x27;tipo_combustible&#x27;]</pre></div></div></div><div class=\"sk-serial\"><div class=\"sk-item\"><div class=\"sk-estimator sk-toggleable\"><input class=\"sk-toggleable__control sk-hidden--visually\" id=\"sk-estimator-id-7\" type=\"checkbox\" ><label for=\"sk-estimator-id-7\" class=\"sk-toggleable__label sk-toggleable__label-arrow\">OneHotEncoder</label><div class=\"sk-toggleable__content\"><pre>OneHotEncoder(handle_unknown=&#x27;infrequent_if_exist&#x27;, min_frequency=0.01,\n",
       "              sparse_output=False)</pre></div></div></div></div></div></div></div></div><div class=\"sk-item\"><div class=\"sk-estimator sk-toggleable\"><input class=\"sk-toggleable__control sk-hidden--visually\" id=\"sk-estimator-id-8\" type=\"checkbox\" ><label for=\"sk-estimator-id-8\" class=\"sk-toggleable__label sk-toggleable__label-arrow\">LinearRegression</label><div class=\"sk-toggleable__content\"><pre>LinearRegression()</pre></div></div></div></div></div></div></div>"
      ],
      "text/plain": [
       "Pipeline(steps=[('preprocessor',\n",
       "                 ColumnTransformer(transformers=[('num', MinMaxScaler(),\n",
       "                                                  ['fecha', 'total_km',\n",
       "                                                   'consumo', 'tipo_motor',\n",
       "                                                   'tasa']),\n",
       "                                                 ('cat',\n",
       "                                                  OneHotEncoder(handle_unknown='infrequent_if_exist',\n",
       "                                                                min_frequency=0.01,\n",
       "                                                                sparse_output=False),\n",
       "                                                  ['marca', 'modelo',\n",
       "                                                   'tipo_cambio',\n",
       "                                                   'tipo_combustible'])])),\n",
       "                ('modelo_regresion_lineal', LinearRegression())])"
      ]
     },
     "execution_count": 53,
     "metadata": {},
     "output_type": "execute_result"
    }
   ],
   "source": [
    "# Creo el pipeline que contiene los pasos de preprocesamiento y modelo. El preprocesamiento ya lo he generado en pasos previos\n",
    "\n",
    "model_pipeline = Pipeline(steps=[\n",
    "    ('preprocessor', preprocessor),\n",
    "    ('modelo_regresion_lineal', LinearRegression())\n",
    "])\n",
    "\n",
    "# Ajusto el modelo con el dataframe de entrenamiento\n",
    "model_pipeline.fit(x_train, target_train)"
   ]
  },
  {
   "cell_type": "code",
   "execution_count": 54,
   "id": "439a3468",
   "metadata": {},
   "outputs": [
    {
     "name": "stdout",
     "output_type": "stream",
     "text": [
      "Primeras 5 predicciones:  [46384. 26532. 50232. 13776. 52944.]\n",
      "Valores reales:  [38000 23495 59999 16713 46000]\n"
     ]
    }
   ],
   "source": [
    "# Predicciones sobre el conjunto de test obteniendo los mismos resultados del flujo anterior\n",
    "\n",
    "predicciones_precio_test2 = model_pipeline.predict(x_test)\n",
    "\n",
    "print('Primeras 5 predicciones: ', predicciones_precio_test2[:5])\n",
    "print('Valores reales: ', target_test.values[:5])"
   ]
  },
  {
   "cell_type": "code",
   "execution_count": 55,
   "id": "e69e4cbb",
   "metadata": {},
   "outputs": [
    {
     "data": {
      "text/plain": [
       "array([62760.])"
      ]
     },
     "execution_count": 55,
     "metadata": {},
     "output_type": "execute_result"
    }
   ],
   "source": [
    "# Predicción del precio con los nuevos datos, obteniendo el mismo resultado del flujo anterior\n",
    "new_price_prediction_lr2 = model_pipeline.predict(new_data)\n",
    "new_price_prediction_lr2"
   ]
  },
  {
   "cell_type": "markdown",
   "id": "5ea76131",
   "metadata": {},
   "source": [
    "Mediante esta otra opción de flujo de trabajo, he obtenido que mi amigo debe vender el auto en 62760 euros, conservando la misma predicción anterior. \n",
    "\n",
    "Ahora bien, probaré con otro modelo: árbol de decisión"
   ]
  },
  {
   "cell_type": "markdown",
   "id": "ca933e70",
   "metadata": {},
   "source": [
    "## Árbol de decisión"
   ]
  },
  {
   "cell_type": "code",
   "execution_count": 56,
   "id": "7ea7f3da",
   "metadata": {},
   "outputs": [
    {
     "data": {
      "text/html": [
       "<style>#sk-container-id-3 {color: black;}#sk-container-id-3 pre{padding: 0;}#sk-container-id-3 div.sk-toggleable {background-color: white;}#sk-container-id-3 label.sk-toggleable__label {cursor: pointer;display: block;width: 100%;margin-bottom: 0;padding: 0.3em;box-sizing: border-box;text-align: center;}#sk-container-id-3 label.sk-toggleable__label-arrow:before {content: \"▸\";float: left;margin-right: 0.25em;color: #696969;}#sk-container-id-3 label.sk-toggleable__label-arrow:hover:before {color: black;}#sk-container-id-3 div.sk-estimator:hover label.sk-toggleable__label-arrow:before {color: black;}#sk-container-id-3 div.sk-toggleable__content {max-height: 0;max-width: 0;overflow: hidden;text-align: left;background-color: #f0f8ff;}#sk-container-id-3 div.sk-toggleable__content pre {margin: 0.2em;color: black;border-radius: 0.25em;background-color: #f0f8ff;}#sk-container-id-3 input.sk-toggleable__control:checked~div.sk-toggleable__content {max-height: 200px;max-width: 100%;overflow: auto;}#sk-container-id-3 input.sk-toggleable__control:checked~label.sk-toggleable__label-arrow:before {content: \"▾\";}#sk-container-id-3 div.sk-estimator input.sk-toggleable__control:checked~label.sk-toggleable__label {background-color: #d4ebff;}#sk-container-id-3 div.sk-label input.sk-toggleable__control:checked~label.sk-toggleable__label {background-color: #d4ebff;}#sk-container-id-3 input.sk-hidden--visually {border: 0;clip: rect(1px 1px 1px 1px);clip: rect(1px, 1px, 1px, 1px);height: 1px;margin: -1px;overflow: hidden;padding: 0;position: absolute;width: 1px;}#sk-container-id-3 div.sk-estimator {font-family: monospace;background-color: #f0f8ff;border: 1px dotted black;border-radius: 0.25em;box-sizing: border-box;margin-bottom: 0.5em;}#sk-container-id-3 div.sk-estimator:hover {background-color: #d4ebff;}#sk-container-id-3 div.sk-parallel-item::after {content: \"\";width: 100%;border-bottom: 1px solid gray;flex-grow: 1;}#sk-container-id-3 div.sk-label:hover label.sk-toggleable__label {background-color: #d4ebff;}#sk-container-id-3 div.sk-serial::before {content: \"\";position: absolute;border-left: 1px solid gray;box-sizing: border-box;top: 0;bottom: 0;left: 50%;z-index: 0;}#sk-container-id-3 div.sk-serial {display: flex;flex-direction: column;align-items: center;background-color: white;padding-right: 0.2em;padding-left: 0.2em;position: relative;}#sk-container-id-3 div.sk-item {position: relative;z-index: 1;}#sk-container-id-3 div.sk-parallel {display: flex;align-items: stretch;justify-content: center;background-color: white;position: relative;}#sk-container-id-3 div.sk-item::before, #sk-container-id-3 div.sk-parallel-item::before {content: \"\";position: absolute;border-left: 1px solid gray;box-sizing: border-box;top: 0;bottom: 0;left: 50%;z-index: -1;}#sk-container-id-3 div.sk-parallel-item {display: flex;flex-direction: column;z-index: 1;position: relative;background-color: white;}#sk-container-id-3 div.sk-parallel-item:first-child::after {align-self: flex-end;width: 50%;}#sk-container-id-3 div.sk-parallel-item:last-child::after {align-self: flex-start;width: 50%;}#sk-container-id-3 div.sk-parallel-item:only-child::after {width: 0;}#sk-container-id-3 div.sk-dashed-wrapped {border: 1px dashed gray;margin: 0 0.4em 0.5em 0.4em;box-sizing: border-box;padding-bottom: 0.4em;background-color: white;}#sk-container-id-3 div.sk-label label {font-family: monospace;font-weight: bold;display: inline-block;line-height: 1.2em;}#sk-container-id-3 div.sk-label-container {text-align: center;}#sk-container-id-3 div.sk-container {/* jupyter's `normalize.less` sets `[hidden] { display: none; }` but bootstrap.min.css set `[hidden] { display: none !important; }` so we also need the `!important` here to be able to override the default hidden behavior on the sphinx rendered scikit-learn.org. See: https://github.com/scikit-learn/scikit-learn/issues/21755 */display: inline-block !important;position: relative;}#sk-container-id-3 div.sk-text-repr-fallback {display: none;}</style><div id=\"sk-container-id-3\" class=\"sk-top-container\"><div class=\"sk-text-repr-fallback\"><pre>Pipeline(steps=[(&#x27;preprocessor&#x27;,\n",
       "                 ColumnTransformer(transformers=[(&#x27;num&#x27;, MinMaxScaler(),\n",
       "                                                  [&#x27;fecha&#x27;, &#x27;total_km&#x27;,\n",
       "                                                   &#x27;consumo&#x27;, &#x27;tipo_motor&#x27;,\n",
       "                                                   &#x27;tasa&#x27;]),\n",
       "                                                 (&#x27;cat&#x27;,\n",
       "                                                  OneHotEncoder(handle_unknown=&#x27;infrequent_if_exist&#x27;,\n",
       "                                                                min_frequency=0.01,\n",
       "                                                                sparse_output=False),\n",
       "                                                  [&#x27;marca&#x27;, &#x27;modelo&#x27;,\n",
       "                                                   &#x27;tipo_cambio&#x27;,\n",
       "                                                   &#x27;tipo_combustible&#x27;])])),\n",
       "                (&#x27;model_tree&#x27;, DecisionTreeRegressor())])</pre><b>In a Jupyter environment, please rerun this cell to show the HTML representation or trust the notebook. <br />On GitHub, the HTML representation is unable to render, please try loading this page with nbviewer.org.</b></div><div class=\"sk-container\" hidden><div class=\"sk-item sk-dashed-wrapped\"><div class=\"sk-label-container\"><div class=\"sk-label sk-toggleable\"><input class=\"sk-toggleable__control sk-hidden--visually\" id=\"sk-estimator-id-9\" type=\"checkbox\" ><label for=\"sk-estimator-id-9\" class=\"sk-toggleable__label sk-toggleable__label-arrow\">Pipeline</label><div class=\"sk-toggleable__content\"><pre>Pipeline(steps=[(&#x27;preprocessor&#x27;,\n",
       "                 ColumnTransformer(transformers=[(&#x27;num&#x27;, MinMaxScaler(),\n",
       "                                                  [&#x27;fecha&#x27;, &#x27;total_km&#x27;,\n",
       "                                                   &#x27;consumo&#x27;, &#x27;tipo_motor&#x27;,\n",
       "                                                   &#x27;tasa&#x27;]),\n",
       "                                                 (&#x27;cat&#x27;,\n",
       "                                                  OneHotEncoder(handle_unknown=&#x27;infrequent_if_exist&#x27;,\n",
       "                                                                min_frequency=0.01,\n",
       "                                                                sparse_output=False),\n",
       "                                                  [&#x27;marca&#x27;, &#x27;modelo&#x27;,\n",
       "                                                   &#x27;tipo_cambio&#x27;,\n",
       "                                                   &#x27;tipo_combustible&#x27;])])),\n",
       "                (&#x27;model_tree&#x27;, DecisionTreeRegressor())])</pre></div></div></div><div class=\"sk-serial\"><div class=\"sk-item sk-dashed-wrapped\"><div class=\"sk-label-container\"><div class=\"sk-label sk-toggleable\"><input class=\"sk-toggleable__control sk-hidden--visually\" id=\"sk-estimator-id-10\" type=\"checkbox\" ><label for=\"sk-estimator-id-10\" class=\"sk-toggleable__label sk-toggleable__label-arrow\">preprocessor: ColumnTransformer</label><div class=\"sk-toggleable__content\"><pre>ColumnTransformer(transformers=[(&#x27;num&#x27;, MinMaxScaler(),\n",
       "                                 [&#x27;fecha&#x27;, &#x27;total_km&#x27;, &#x27;consumo&#x27;, &#x27;tipo_motor&#x27;,\n",
       "                                  &#x27;tasa&#x27;]),\n",
       "                                (&#x27;cat&#x27;,\n",
       "                                 OneHotEncoder(handle_unknown=&#x27;infrequent_if_exist&#x27;,\n",
       "                                               min_frequency=0.01,\n",
       "                                               sparse_output=False),\n",
       "                                 [&#x27;marca&#x27;, &#x27;modelo&#x27;, &#x27;tipo_cambio&#x27;,\n",
       "                                  &#x27;tipo_combustible&#x27;])])</pre></div></div></div><div class=\"sk-parallel\"><div class=\"sk-parallel-item\"><div class=\"sk-item\"><div class=\"sk-label-container\"><div class=\"sk-label sk-toggleable\"><input class=\"sk-toggleable__control sk-hidden--visually\" id=\"sk-estimator-id-11\" type=\"checkbox\" ><label for=\"sk-estimator-id-11\" class=\"sk-toggleable__label sk-toggleable__label-arrow\">num</label><div class=\"sk-toggleable__content\"><pre>[&#x27;fecha&#x27;, &#x27;total_km&#x27;, &#x27;consumo&#x27;, &#x27;tipo_motor&#x27;, &#x27;tasa&#x27;]</pre></div></div></div><div class=\"sk-serial\"><div class=\"sk-item\"><div class=\"sk-estimator sk-toggleable\"><input class=\"sk-toggleable__control sk-hidden--visually\" id=\"sk-estimator-id-12\" type=\"checkbox\" ><label for=\"sk-estimator-id-12\" class=\"sk-toggleable__label sk-toggleable__label-arrow\">MinMaxScaler</label><div class=\"sk-toggleable__content\"><pre>MinMaxScaler()</pre></div></div></div></div></div></div><div class=\"sk-parallel-item\"><div class=\"sk-item\"><div class=\"sk-label-container\"><div class=\"sk-label sk-toggleable\"><input class=\"sk-toggleable__control sk-hidden--visually\" id=\"sk-estimator-id-13\" type=\"checkbox\" ><label for=\"sk-estimator-id-13\" class=\"sk-toggleable__label sk-toggleable__label-arrow\">cat</label><div class=\"sk-toggleable__content\"><pre>[&#x27;marca&#x27;, &#x27;modelo&#x27;, &#x27;tipo_cambio&#x27;, &#x27;tipo_combustible&#x27;]</pre></div></div></div><div class=\"sk-serial\"><div class=\"sk-item\"><div class=\"sk-estimator sk-toggleable\"><input class=\"sk-toggleable__control sk-hidden--visually\" id=\"sk-estimator-id-14\" type=\"checkbox\" ><label for=\"sk-estimator-id-14\" class=\"sk-toggleable__label sk-toggleable__label-arrow\">OneHotEncoder</label><div class=\"sk-toggleable__content\"><pre>OneHotEncoder(handle_unknown=&#x27;infrequent_if_exist&#x27;, min_frequency=0.01,\n",
       "              sparse_output=False)</pre></div></div></div></div></div></div></div></div><div class=\"sk-item\"><div class=\"sk-estimator sk-toggleable\"><input class=\"sk-toggleable__control sk-hidden--visually\" id=\"sk-estimator-id-15\" type=\"checkbox\" ><label for=\"sk-estimator-id-15\" class=\"sk-toggleable__label sk-toggleable__label-arrow\">DecisionTreeRegressor</label><div class=\"sk-toggleable__content\"><pre>DecisionTreeRegressor()</pre></div></div></div></div></div></div></div>"
      ],
      "text/plain": [
       "Pipeline(steps=[('preprocessor',\n",
       "                 ColumnTransformer(transformers=[('num', MinMaxScaler(),\n",
       "                                                  ['fecha', 'total_km',\n",
       "                                                   'consumo', 'tipo_motor',\n",
       "                                                   'tasa']),\n",
       "                                                 ('cat',\n",
       "                                                  OneHotEncoder(handle_unknown='infrequent_if_exist',\n",
       "                                                                min_frequency=0.01,\n",
       "                                                                sparse_output=False),\n",
       "                                                  ['marca', 'modelo',\n",
       "                                                   'tipo_cambio',\n",
       "                                                   'tipo_combustible'])])),\n",
       "                ('model_tree', DecisionTreeRegressor())])"
      ]
     },
     "execution_count": 56,
     "metadata": {},
     "output_type": "execute_result"
    }
   ],
   "source": [
    "#importo el modelo de la librería de sklearn\n",
    "\n",
    "from sklearn.tree import DecisionTreeClassifier, DecisionTreeRegressor\n",
    "\n",
    "# Los inicialiamos con sus parámetros por defecto (salvo la semilla)\n",
    "tree_reg = DecisionTreeRegressor(criterion = 'poisson', max_depth=15, min_samples_leaf=1, random_state = 42)\n",
    "\n",
    "# creo un pipeline para el preprocesamiento y la aplicación del modelo de árbol de decisión\n",
    "\n",
    "model_pipeline_tree = Pipeline(steps=[\n",
    "    ('preprocessor', preprocessor),\n",
    "    ('model_tree', DecisionTreeRegressor())\n",
    "])\n",
    "\n",
    "# ajusto el modelo con el dataframe de entrenamiento\n",
    "\n",
    "model_pipeline_tree.fit(x_train, target_train)"
   ]
  },
  {
   "cell_type": "code",
   "execution_count": 57,
   "id": "8bc1ee32",
   "metadata": {},
   "outputs": [
    {
     "data": {
      "text/plain": [
       "array([38000., 22795., 57526., ..., 20491., 19500.,  2990.])"
      ]
     },
     "execution_count": 57,
     "metadata": {},
     "output_type": "execute_result"
    }
   ],
   "source": [
    "# realizo las predicciones del modelo probando con el dataframe de test, encontrando diferencias con el modelo de LR\n",
    "\n",
    "pred_precio_test_tree = model_pipeline_tree.predict(x_test)\n",
    "pred_precio_test_tree"
   ]
  },
  {
   "cell_type": "code",
   "execution_count": 58,
   "id": "d8fa18ba",
   "metadata": {},
   "outputs": [
    {
     "name": "stdout",
     "output_type": "stream",
     "text": [
      "R2 en training:  0.9998242880606557\n"
     ]
    }
   ],
   "source": [
    "# imprimo el coeficiente R del modelo ajustado al dataframe de entrenamiento\n",
    "\n",
    "print('R2 en training: ', model_pipeline_tree.score(x_train, target_train))"
   ]
  },
  {
   "cell_type": "code",
   "execution_count": 59,
   "id": "4e50ee84",
   "metadata": {},
   "outputs": [
    {
     "name": "stdout",
     "output_type": "stream",
     "text": [
      "R2 en test:  0.9260076881684027\n"
     ]
    }
   ],
   "source": [
    "# imprimo el coeficiente R del modelo ajustado al dataframe de entrenamiento alcanzando un buen valor\n",
    "\n",
    "print('R2 en test: ', model_pipeline_tree.score(x_test, target_test))"
   ]
  },
  {
   "cell_type": "code",
   "execution_count": 60,
   "id": "24a5fcff",
   "metadata": {},
   "outputs": [
    {
     "name": "stdout",
     "output_type": "stream",
     "text": [
      "MAE en test: 2431.261\n",
      "MAPE en test: 0.118\n",
      "\n"
     ]
    }
   ],
   "source": [
    "mae_test = mean_absolute_error(target_test,pred_precio_test_tree)\n",
    "mape_test = mean_absolute_percentage_error(target_test,pred_precio_test_tree)\n",
    "print('MAE en test: %.3f' % mae_test)\n",
    "print('MAPE en test: %.3f' % mape_test)\n",
    "print('')"
   ]
  },
  {
   "cell_type": "code",
   "execution_count": 61,
   "id": "9ab30050",
   "metadata": {},
   "outputs": [
    {
     "data": {
      "image/png": "[encoded data removed]",
      "text/plain": [
       "<Figure size 640x480 with 1 Axes>"
      ]
     },
     "metadata": {},
     "output_type": "display_data"
    }
   ],
   "source": [
    "import matplotlib.pyplot as plt\n",
    "%matplotlib inline\n",
    "\n",
    "residuals = target_test - pred_precio_test_tree\n",
    "\n",
    "plt.scatter(target_test, residuals)\n",
    "plt.hlines(0, xmin=40, xmax=320, linestyles='--', color='k')\n",
    "plt.xlabel('Valores reales')\n",
    "plt.ylabel('Residuo')\n",
    "plt.show()"
   ]
  },
  {
   "cell_type": "markdown",
   "id": "27ad35b3",
   "metadata": {},
   "source": [
    "#### El modelo de árbol de decisión probado con la data de test muestra menor error que con regresión lineal y un R mayor a 0.9\n",
    "\n",
    "1. Regresión lineal \n",
    "R en test: 0.7\n",
    "MAE en test: 4599.387\n",
    "MAPE en test: 0.310\n",
    "2. Árbol de decisión\n",
    "R en test: 0.93\n",
    "MAE en test: 2431.261\n",
    "MAPE en test: 0.118"
   ]
  },
  {
   "cell_type": "markdown",
   "id": "21ea1eea",
   "metadata": {},
   "source": [
    "### Predicción de precio de coche audi A7 por Árbol de decisión (Rta pregunta 5)"
   ]
  },
  {
   "cell_type": "code",
   "execution_count": 67,
   "id": "3799b1fc",
   "metadata": {},
   "outputs": [
    {
     "data": {
      "text/plain": [
       "array([84496.])"
      ]
     },
     "execution_count": 67,
     "metadata": {},
     "output_type": "execute_result"
    }
   ],
   "source": [
    "# Aplico el modelo para predecir el precio de venta del auto \n",
    "new_price_prediction_tree = model_pipeline_tree.predict (new_data)\n",
    "new_price_prediction_tree"
   ]
  },
  {
   "cell_type": "markdown",
   "id": "2d22decf",
   "metadata": {},
   "source": [
    "#### He obtenido que mi amigo que quiere vender un audi A7 de 2020 con 5000 km, cambio automático, combustible híbrido, consumo de 5.5 l/100km y motor 4.0. La tasa de circulación es de 200€, debe venderlo en 84496 euros"
   ]
  },
  {
   "cell_type": "markdown",
   "id": "240db914",
   "metadata": {},
   "source": [
    "## Variables más significativas (Rta pregunta 4)\n",
    "\n",
    "Aquí deseo ver cuál es la variable más importante en el modelo de árbol de decisión"
   ]
  },
  {
   "cell_type": "code",
   "execution_count": 63,
   "id": "9b7e2aa1",
   "metadata": {},
   "outputs": [
    {
     "name": "stdout",
     "output_type": "stream",
     "text": [
      "marca: 0.273\n",
      "modelo: 0.049\n",
      "fecha: 0.108\n",
      "tipo_cambio: 0.444\n",
      "total_km: 0.012\n",
      "tipo_combustible: 0.009\n",
      "consumo: 0.012\n",
      "tipo_motor: 0.023\n",
      "tasa: 0.000\n"
     ]
    }
   ],
   "source": [
    "# asigno las características\n",
    "feature_importances = model_pipeline_tree.named_steps['model_tree'].feature_importances_\n",
    "\n",
    "for var, value in zip(x_train.columns, feature_importances):\n",
    "    print('%s: %.3f' % (var, value))\n"
   ]
  },
  {
   "cell_type": "markdown",
   "id": "08f8823b",
   "metadata": {},
   "source": [
    "Puedo ver que la variable más importante para el modelo es la \"fecha\", seguida (aunque de lejos) por la variable \"modelo\"."
   ]
  },
  {
   "cell_type": "markdown",
   "id": "1b11d673",
   "metadata": {},
   "source": [
    "# Pruebas con más ejemplos\n",
    "He realizado una prueba adicional con más datos, para visualizar cómo funciona el modelo con otro dataset de datos nuevos"
   ]
  },
  {
   "cell_type": "code",
   "execution_count": 64,
   "id": "549daa59",
   "metadata": {},
   "outputs": [
    {
     "data": {
      "text/html": [
       "<div>\n",
       "<style scoped>\n",
       "    .dataframe tbody tr th:only-of-type {\n",
       "        vertical-align: middle;\n",
       "    }\n",
       "\n",
       "    .dataframe tbody tr th {\n",
       "        vertical-align: top;\n",
       "    }\n",
       "\n",
       "    .dataframe thead th {\n",
       "        text-align: right;\n",
       "    }\n",
       "</style>\n",
       "<table border=\"1\" class=\"dataframe\">\n",
       "  <thead>\n",
       "    <tr style=\"text-align: right;\">\n",
       "      <th></th>\n",
       "      <th>marca</th>\n",
       "      <th>modelo</th>\n",
       "      <th>fecha</th>\n",
       "      <th>total_km</th>\n",
       "      <th>tipo_cambio</th>\n",
       "      <th>tipo_combustible</th>\n",
       "      <th>consumo</th>\n",
       "      <th>tipo_motor</th>\n",
       "      <th>tasa</th>\n",
       "    </tr>\n",
       "  </thead>\n",
       "  <tbody>\n",
       "    <tr>\n",
       "      <th>0</th>\n",
       "      <td>audi</td>\n",
       "      <td>a7</td>\n",
       "      <td>2020</td>\n",
       "      <td>5000</td>\n",
       "      <td>automatic</td>\n",
       "      <td>hybrid</td>\n",
       "      <td>5.5</td>\n",
       "      <td>4.0</td>\n",
       "      <td>200</td>\n",
       "    </tr>\n",
       "    <tr>\n",
       "      <th>1</th>\n",
       "      <td>merc</td>\n",
       "      <td>AMG</td>\n",
       "      <td>2018</td>\n",
       "      <td>4000</td>\n",
       "      <td>manual</td>\n",
       "      <td>Petrol</td>\n",
       "      <td>4.4</td>\n",
       "      <td>4.9</td>\n",
       "      <td>300</td>\n",
       "    </tr>\n",
       "    <tr>\n",
       "      <th>2</th>\n",
       "      <td>skoda</td>\n",
       "      <td>Scala</td>\n",
       "      <td>2020</td>\n",
       "      <td>51000</td>\n",
       "      <td>automatic</td>\n",
       "      <td>Diesel</td>\n",
       "      <td>5.5</td>\n",
       "      <td>2.2</td>\n",
       "      <td>200</td>\n",
       "    </tr>\n",
       "    <tr>\n",
       "      <th>3</th>\n",
       "      <td>bmw</td>\n",
       "      <td>6 series</td>\n",
       "      <td>2021</td>\n",
       "      <td>12000</td>\n",
       "      <td>manual</td>\n",
       "      <td>hybrid</td>\n",
       "      <td>3.0</td>\n",
       "      <td>4.9</td>\n",
       "      <td>50</td>\n",
       "    </tr>\n",
       "  </tbody>\n",
       "</table>\n",
       "</div>"
      ],
      "text/plain": [
       "   marca    modelo  fecha  total_km tipo_cambio tipo_combustible  consumo  \\\n",
       "0   audi        a7   2020      5000   automatic           hybrid      5.5   \n",
       "1   merc       AMG   2018      4000      manual           Petrol      4.4   \n",
       "2  skoda     Scala   2020     51000   automatic           Diesel      5.5   \n",
       "3    bmw  6 series   2021     12000      manual           hybrid      3.0   \n",
       "\n",
       "  tipo_motor  tasa  \n",
       "0        4.0   200  \n",
       "1        4.9   300  \n",
       "2        2.2   200  \n",
       "3        4.9    50  "
      ]
     },
     "execution_count": 64,
     "metadata": {},
     "output_type": "execute_result"
    }
   ],
   "source": [
    "new_data2= pd.DataFrame({'marca':['audi', 'merc', 'skoda', 'bmw'],\n",
    "                        'modelo': ['a7', 'AMG', 'Scala', '6 series'],\n",
    "                        'fecha':[2020, 2018, 2020, 2021],\n",
    "                        'total_km': [5000, 4000, 51000, 12000],\n",
    "                        'tipo_cambio': ['automatic', 'manual','automatic', 'manual'],\n",
    "                        'tipo_combustible': ['hybrid', 'Petrol', 'Diesel', 'hybrid'],\n",
    "                        'consumo': [5.5, 4.4, 5.5, 3.0],\n",
    "                        'tipo_motor': ['4.0', '4.9', '2.2', '4.9'],\n",
    "                        'tasa': [200, 300, 200, 50]})\n",
    "\n",
    "new_data2"
   ]
  },
  {
   "cell_type": "code",
   "execution_count": 68,
   "id": "361f68c1",
   "metadata": {},
   "outputs": [
    {
     "data": {
      "text/plain": [
       "array([84496., 95950., 38489., 46995.])"
      ]
     },
     "execution_count": 68,
     "metadata": {},
     "output_type": "execute_result"
    }
   ],
   "source": [
    "new_price_prediction_tree = model_pipeline_tree.predict (new_data2)\n",
    "new_price_prediction_tree"
   ]
  },
  {
   "cell_type": "markdown",
   "id": "d452cbb4",
   "metadata": {},
   "source": [
    "Así encuentro que los autos pueden venderse en:\n",
    "\n",
    "1. Audi : 84496 euros\n",
    "2. Mercedes: 95950 euros, pues aunque no es más nuevo, tiene menos km recorridos y mejor consumo\n",
    "3. Skoda : 38489 euros, pues tiene muchos km recorridos, mucho consumo y un motor poco potente\n",
    "4. bmw: 46995 euros, pues aunque es más nuevo que audi y merc, tiene un total de km más alto, lo cual puede influir en el resultado"
   ]
  },
  {
   "cell_type": "markdown",
   "id": "ac3f325d",
   "metadata": {},
   "source": [
    "# Respuestas a las preguntas planteadas: \n",
    "\n",
    "1. Pregunta 1. Representar gráficamente la distribución de la variable precio en el conjunto de entrenamiento.\n",
    "\n",
    "Rta: Ver In:[14]\n",
    "\n",
    "2. Pregunta 2. ¿Cuál es la marca más cara en promedio? ¿Y la más barata?\n",
    "\n",
    "Rta. \n",
    "Marca más cara en promedio: audi \n",
    "Marca más barata: vauxhall\n",
    "\n",
    "3. Pregunta 3. Representar gráficamente la dependencia entre el precio y el kilometraje.\n",
    "\n",
    "Rta: Ver In:[169]\n",
    "\n",
    "4. Pregunta 4. Calcular las variables más significativas, ya sea mediante un test estadístico o analizando el modelo entrenado.\n",
    "\n",
    "Rta: Puedo ver que la variable más importante para el modelo es la \"fecha\", seguida (aunque de lejos) por la variable \"modelo\".\n",
    "\n",
    "5. Pregunta 5. Un amigo quiere vender un audi A7 de 2020 con 5000 km, cambio automático, combustible híbrido, consumo de 5.5 l/100km y motor 4.0. La tasa de circulación es de 200€. ¿A cuánto debería venderlo?\n",
    "\n",
    "Rta. Modelo de Árbol de decisión: 84496 euros\n"
   ]
  },
  {
   "cell_type": "code",
   "execution_count": null,
   "id": "8481d7c8",
   "metadata": {},
   "outputs": [],
   "source": []
  }
 ],
 "metadata": {
  "kernelspec": {
   "display_name": "Python 3 (ipykernel)",
   "language": "python",
   "name": "python3"
  },
  "language_info": {
   "codemirror_mode": {
    "name": "ipython",
    "version": 3
   },
   "file_extension": ".py",
   "mimetype": "text/x-python",
   "name": "python",
   "nbconvert_exporter": "python",
   "pygments_lexer": "ipython3",
   "version": "3.11.5"
  }
 },
 "nbformat": 4,
 "nbformat_minor": 5
}
